{
  "nbformat": 4,
  "nbformat_minor": 0,
  "metadata": {
    "colab": {
      "provenance": []
    },
    "kernelspec": {
      "name": "python3",
      "display_name": "Python 3"
    },
    "language_info": {
      "name": "python"
    }
  },
  "cells": [
    {
      "cell_type": "code",
      "execution_count": null,
      "metadata": {
        "id": "2xcAVhbhKpKZ"
      },
      "outputs": [],
      "source": []
    },
    {
      "cell_type": "code",
      "source": [
        "%%bash\n",
        "echo \"Hello World!\""
      ],
      "metadata": {
        "colab": {
          "base_uri": "https://localhost:8080/"
        },
        "id": "4SJR_tYCKt6g",
        "outputId": "7f52b276-0305-48f1-8f44-08ef2f2b1280"
      },
      "execution_count": 1,
      "outputs": [
        {
          "output_type": "stream",
          "name": "stdout",
          "text": [
            "Hello World!\n"
          ]
        }
      ]
    },
    {
      "cell_type": "code",
      "source": [
        "%%bash\n",
        "echo \"wordOne\" \"wordTwo\" \"wordThree\""
      ],
      "metadata": {
        "colab": {
          "base_uri": "https://localhost:8080/"
        },
        "id": "uLe_SID5KyZV",
        "outputId": "1e625d96-3e76-4b85-87cd-fa767cdd89ec"
      },
      "execution_count": 2,
      "outputs": [
        {
          "output_type": "stream",
          "name": "stdout",
          "text": [
            "wordOne wordTwo wordThree\n"
          ]
        }
      ]
    },
    {
      "cell_type": "code",
      "source": [
        "%%bash\n",
        "wget -O example.txt 'https://drive.google.com/uc?export=download&id=1JqblHOsp5LWQ9zBki6Ra0AspQQVOMO9W'"
      ],
      "metadata": {
        "colab": {
          "base_uri": "https://localhost:8080/"
        },
        "id": "bLBsr87iK5Tl",
        "outputId": "00065f28-5d9a-4dcc-8831-9b59fbd79e39"
      },
      "execution_count": 3,
      "outputs": [
        {
          "output_type": "stream",
          "name": "stderr",
          "text": [
            "--2024-06-26 06:11:30--  https://drive.google.com/uc?export=download&id=1JqblHOsp5LWQ9zBki6Ra0AspQQVOMO9W\n",
            "Resolving drive.google.com (drive.google.com)... 142.250.153.139, 142.250.153.102, 142.250.153.101, ...\n",
            "Connecting to drive.google.com (drive.google.com)|142.250.153.139|:443... connected.\n",
            "HTTP request sent, awaiting response... 303 See Other\n",
            "Location: https://drive.usercontent.google.com/download?id=1JqblHOsp5LWQ9zBki6Ra0AspQQVOMO9W&export=download [following]\n",
            "--2024-06-26 06:11:30--  https://drive.usercontent.google.com/download?id=1JqblHOsp5LWQ9zBki6Ra0AspQQVOMO9W&export=download\n",
            "Resolving drive.usercontent.google.com (drive.usercontent.google.com)... 173.194.79.132, 2a00:1450:4013:c05::84\n",
            "Connecting to drive.usercontent.google.com (drive.usercontent.google.com)|173.194.79.132|:443... connected.\n",
            "HTTP request sent, awaiting response... 200 OK\n",
            "Length: 146 [application/octet-stream]\n",
            "Saving to: ‘example.txt’\n",
            "\n",
            "     0K                                                       100% 2.95M=0s\n",
            "\n",
            "2024-06-26 06:11:31 (2.95 MB/s) - ‘example.txt’ saved [146/146]\n",
            "\n"
          ]
        }
      ]
    },
    {
      "cell_type": "code",
      "source": [
        "%%bash\n",
        "wget -nv -O example.txt 'https://drive.google.com/uc?export=download&id=1JqblHOsp5LWQ9zBki6Ra0AspQQVOMO9W'"
      ],
      "metadata": {
        "colab": {
          "base_uri": "https://localhost:8080/"
        },
        "id": "NzUimnfaLBzU",
        "outputId": "b9cfad76-740f-4bb2-f016-76f42cab9a74"
      },
      "execution_count": 4,
      "outputs": [
        {
          "output_type": "stream",
          "name": "stderr",
          "text": [
            "2024-06-26 06:12:03 URL:https://drive.usercontent.google.com/download?id=1JqblHOsp5LWQ9zBki6Ra0AspQQVOMO9W&export=download [146/146] -> \"example.txt\" [1]\n"
          ]
        }
      ]
    },
    {
      "cell_type": "code",
      "source": [
        "%%bash\n",
        "wget -O example.txt 'https://drive.google.com/uc?export=download&id=1JqblHOsp5LWQ9zBki6Ra0AspQQVOMO9W' &>/dev/null"
      ],
      "metadata": {
        "id": "IKsxDKIFLImh"
      },
      "execution_count": 5,
      "outputs": []
    },
    {
      "cell_type": "code",
      "source": [
        "%%bash\n",
        "cat example.txt"
      ],
      "metadata": {
        "colab": {
          "base_uri": "https://localhost:8080/"
        },
        "id": "OMadMW_pLQaM",
        "outputId": "a7488a16-9b18-4650-fbf1-1d2f0af9a2b2"
      },
      "execution_count": 6,
      "outputs": [
        {
          "output_type": "stream",
          "name": "stdout",
          "text": [
            "This is an example text file.\n",
            "It is used to teach Unix commands.\n",
            "For example, the wc, head, and grep commands. \n",
            "This file has a total of 4 lines.\n"
          ]
        }
      ]
    },
    {
      "cell_type": "code",
      "source": [
        "%%bash\n",
        "wget -nv -O exampleTwo.txt 'https://drive.google.com/uc?export=download&id=16jP2qPOn_8ngTjyeRFEWmsv4BePKiQ7h' &>/dev/null\n",
        "cat exampleTwo.txt\n"
      ],
      "metadata": {
        "colab": {
          "base_uri": "https://localhost:8080/"
        },
        "id": "J6tCPWRJLY5z",
        "outputId": "65ba8904-2ae8-4824-cf05-67c499890e2b"
      },
      "execution_count": 7,
      "outputs": [
        {
          "output_type": "stream",
          "name": "stdout",
          "text": [
            "this is the first line of a second example file\n",
            "this file can be concatenated to the first example file\n",
            "after concatenation, this line will be the last line\n"
          ]
        }
      ]
    },
    {
      "cell_type": "code",
      "source": [
        "%%bash\n",
        "cat exampleTwo.txt example.txt\n"
      ],
      "metadata": {
        "colab": {
          "base_uri": "https://localhost:8080/"
        },
        "id": "6Ou4GTy2LjZL",
        "outputId": "340919d3-5942-49d4-d336-c1b5709f39e6"
      },
      "execution_count": 8,
      "outputs": [
        {
          "output_type": "stream",
          "name": "stdout",
          "text": [
            "this is the first line of a second example file\n",
            "this file can be concatenated to the first example file\n",
            "after concatenation, this line will be the last line\n",
            "This is an example text file.\n",
            "It is used to teach Unix commands.\n",
            "For example, the wc, head, and grep commands. \n",
            "This file has a total of 4 lines.\n"
          ]
        }
      ]
    },
    {
      "cell_type": "code",
      "source": [
        "%%bash\n",
        "cat example.txt exampleTwo.txt > combinedExample.txt\n",
        "ls\n"
      ],
      "metadata": {
        "colab": {
          "base_uri": "https://localhost:8080/"
        },
        "id": "UJVicWzOLvzR",
        "outputId": "57b2e120-2fbb-47d6-a608-272c21837f77"
      },
      "execution_count": 9,
      "outputs": [
        {
          "output_type": "stream",
          "name": "stdout",
          "text": [
            "combinedExample.txt\n",
            "exampleTwo.txt\n",
            "example.txt\n",
            "sample_data\n"
          ]
        }
      ]
    },
    {
      "cell_type": "code",
      "source": [
        "%%bash\n",
        "cat combinedExample.txt example.txt"
      ],
      "metadata": {
        "colab": {
          "base_uri": "https://localhost:8080/"
        },
        "id": "tDIzavaDL6E-",
        "outputId": "252f3431-ea0d-4c5c-b43a-af999419b007"
      },
      "execution_count": 10,
      "outputs": [
        {
          "output_type": "stream",
          "name": "stdout",
          "text": [
            "This is an example text file.\n",
            "It is used to teach Unix commands.\n",
            "For example, the wc, head, and grep commands. \n",
            "This file has a total of 4 lines.\n",
            "this is the first line of a second example file\n",
            "this file can be concatenated to the first example file\n",
            "after concatenation, this line will be the last line\n",
            "This is an example text file.\n",
            "It is used to teach Unix commands.\n",
            "For example, the wc, head, and grep commands. \n",
            "This file has a total of 4 lines.\n"
          ]
        }
      ]
    },
    {
      "cell_type": "code",
      "source": [
        "%%bash\n",
        "echo \"This string has 1 lines, 12 words, and 70 characters including spaces victor colegul\" | wc\n"
      ],
      "metadata": {
        "colab": {
          "base_uri": "https://localhost:8080/"
        },
        "id": "EMZrmRieMBwO",
        "outputId": "e133dace-3b80-4981-ad95-5c2bf1606a0d"
      },
      "execution_count": 12,
      "outputs": [
        {
          "output_type": "stream",
          "name": "stdout",
          "text": [
            "      1      14      85\n"
          ]
        }
      ]
    },
    {
      "cell_type": "code",
      "source": [
        "%%bash\n",
        "cat combinedExample.txt"
      ],
      "metadata": {
        "colab": {
          "base_uri": "https://localhost:8080/"
        },
        "id": "uXN28VxJMY3Y",
        "outputId": "82b21da2-194c-4bb1-9dbd-3bf5c5f1d21c"
      },
      "execution_count": 13,
      "outputs": [
        {
          "output_type": "stream",
          "name": "stdout",
          "text": [
            "This is an example text file.\n",
            "It is used to teach Unix commands.\n",
            "For example, the wc, head, and grep commands. \n",
            "This file has a total of 4 lines.\n",
            "this is the first line of a second example file\n",
            "this file can be concatenated to the first example file\n",
            "after concatenation, this line will be the last line\n"
          ]
        }
      ]
    },
    {
      "cell_type": "code",
      "source": [
        "%%bash\n",
        "wc combinedExample.txt"
      ],
      "metadata": {
        "colab": {
          "base_uri": "https://localhost:8080/"
        },
        "id": "Zwl7oS2aMdKh",
        "outputId": "9f71b852-2ead-4d67-b763-12acb0f30d80"
      },
      "execution_count": 14,
      "outputs": [
        {
          "output_type": "stream",
          "name": "stdout",
          "text": [
            "  7  58 303 combinedExample.txt\n"
          ]
        }
      ]
    },
    {
      "cell_type": "code",
      "source": [
        "%%bash\n",
        "cat combinedExample.txt"
      ],
      "metadata": {
        "colab": {
          "base_uri": "https://localhost:8080/"
        },
        "id": "xOgAyv-YMil9",
        "outputId": "abce8ca9-0685-4c88-d585-abf5191ff71a"
      },
      "execution_count": 15,
      "outputs": [
        {
          "output_type": "stream",
          "name": "stdout",
          "text": [
            "This is an example text file.\n",
            "It is used to teach Unix commands.\n",
            "For example, the wc, head, and grep commands. \n",
            "This file has a total of 4 lines.\n",
            "this is the first line of a second example file\n",
            "this file can be concatenated to the first example file\n",
            "after concatenation, this line will be the last line\n"
          ]
        }
      ]
    },
    {
      "cell_type": "code",
      "source": [
        "%%bash\n",
        "grep \"this\" combinedExample.txt"
      ],
      "metadata": {
        "colab": {
          "base_uri": "https://localhost:8080/"
        },
        "id": "AmG0q-M9MxwG",
        "outputId": "e0c3f78d-096c-4a11-c988-2532143339b1"
      },
      "execution_count": 16,
      "outputs": [
        {
          "output_type": "stream",
          "name": "stdout",
          "text": [
            "this is the first line of a second example file\n",
            "this file can be concatenated to the first example file\n",
            "after concatenation, this line will be the last line\n"
          ]
        }
      ]
    },
    {
      "cell_type": "code",
      "source": [
        "%%bash\n",
        "grep \"This\" combinedExample.txt"
      ],
      "metadata": {
        "colab": {
          "base_uri": "https://localhost:8080/"
        },
        "id": "Y1nLPGvPM3ef",
        "outputId": "eaf9c71c-eb17-4956-8643-19424873f277"
      },
      "execution_count": 17,
      "outputs": [
        {
          "output_type": "stream",
          "name": "stdout",
          "text": [
            "This is an example text file.\n",
            "This file has a total of 4 lines.\n"
          ]
        }
      ]
    },
    {
      "cell_type": "code",
      "source": [
        "%%bash\n",
        "grep -i \"this\" combinedExample.txt"
      ],
      "metadata": {
        "colab": {
          "base_uri": "https://localhost:8080/"
        },
        "id": "BgM6qFWRNEmD",
        "outputId": "9d9440ea-1aa2-4a1a-f0ba-2bd5a0a80154"
      },
      "execution_count": 18,
      "outputs": [
        {
          "output_type": "stream",
          "name": "stdout",
          "text": [
            "This is an example text file.\n",
            "This file has a total of 4 lines.\n",
            "this is the first line of a second example file\n",
            "this file can be concatenated to the first example file\n",
            "after concatenation, this line will be the last line\n"
          ]
        }
      ]
    },
    {
      "cell_type": "code",
      "source": [
        "%%bash\n",
        "grep -i \"This\" combinedExample.txt"
      ],
      "metadata": {
        "colab": {
          "base_uri": "https://localhost:8080/"
        },
        "id": "O1PvZqKyNGXw",
        "outputId": "d6875095-e8cf-425d-8c0e-71577dc79add"
      },
      "execution_count": 19,
      "outputs": [
        {
          "output_type": "stream",
          "name": "stdout",
          "text": [
            "This is an example text file.\n",
            "This file has a total of 4 lines.\n",
            "this is the first line of a second example file\n",
            "this file can be concatenated to the first example file\n",
            "after concatenation, this line will be the last line\n"
          ]
        }
      ]
    },
    {
      "cell_type": "code",
      "source": [
        "%%bash\n",
        "grep \"^this\" combinedExample.txt"
      ],
      "metadata": {
        "colab": {
          "base_uri": "https://localhost:8080/"
        },
        "id": "Ac9SQh9JNTuR",
        "outputId": "155f1d68-fa30-43ee-ee71-71e68f12d7ba"
      },
      "execution_count": 20,
      "outputs": [
        {
          "output_type": "stream",
          "name": "stdout",
          "text": [
            "this is the first line of a second example file\n",
            "this file can be concatenated to the first example file\n"
          ]
        }
      ]
    },
    {
      "cell_type": "code",
      "source": [
        "%%bash\n",
        "grep \"file$\" combinedExample.txt"
      ],
      "metadata": {
        "colab": {
          "base_uri": "https://localhost:8080/"
        },
        "id": "JK6ayPEzNYBk",
        "outputId": "7b27111d-de3b-4f3d-cddb-2695f9bbd5a0"
      },
      "execution_count": 21,
      "outputs": [
        {
          "output_type": "stream",
          "name": "stdout",
          "text": [
            "this is the first line of a second example file\n",
            "this file can be concatenated to the first example file\n"
          ]
        }
      ]
    },
    {
      "cell_type": "code",
      "source": [
        "%%bash\n",
        "grep \"example$\" combinedExample.txt"
      ],
      "metadata": {
        "colab": {
          "base_uri": "https://localhost:8080/",
          "height": 333
        },
        "id": "gAE_RlwXNZwk",
        "outputId": "941b4c23-d217-4914-e58a-e1f50e37ef32"
      },
      "execution_count": 22,
      "outputs": [
        {
          "output_type": "error",
          "ename": "CalledProcessError",
          "evalue": "Command 'b'grep \"example$\" combinedExample.txt\\n'' returned non-zero exit status 1.",
          "traceback": [
            "\u001b[0;31m---------------------------------------------------------------------------\u001b[0m",
            "\u001b[0;31mCalledProcessError\u001b[0m                        Traceback (most recent call last)",
            "\u001b[0;32m<ipython-input-22-bb6425f337d0>\u001b[0m in \u001b[0;36m<cell line: 1>\u001b[0;34m()\u001b[0m\n\u001b[0;32m----> 1\u001b[0;31m \u001b[0mget_ipython\u001b[0m\u001b[0;34m(\u001b[0m\u001b[0;34m)\u001b[0m\u001b[0;34m.\u001b[0m\u001b[0mrun_cell_magic\u001b[0m\u001b[0;34m(\u001b[0m\u001b[0;34m'bash'\u001b[0m\u001b[0;34m,\u001b[0m \u001b[0;34m''\u001b[0m\u001b[0;34m,\u001b[0m \u001b[0;34m'grep \"example$\" combinedExample.txt\\n'\u001b[0m\u001b[0;34m)\u001b[0m\u001b[0;34m\u001b[0m\u001b[0;34m\u001b[0m\u001b[0m\n\u001b[0m",
            "\u001b[0;32m/usr/local/lib/python3.10/dist-packages/google/colab/_shell.py\u001b[0m in \u001b[0;36mrun_cell_magic\u001b[0;34m(self, magic_name, line, cell)\u001b[0m\n\u001b[1;32m    332\u001b[0m     \u001b[0;32mif\u001b[0m \u001b[0mline\u001b[0m \u001b[0;32mand\u001b[0m \u001b[0;32mnot\u001b[0m \u001b[0mcell\u001b[0m\u001b[0;34m:\u001b[0m\u001b[0;34m\u001b[0m\u001b[0;34m\u001b[0m\u001b[0m\n\u001b[1;32m    333\u001b[0m       \u001b[0mcell\u001b[0m \u001b[0;34m=\u001b[0m \u001b[0;34m' '\u001b[0m\u001b[0;34m\u001b[0m\u001b[0;34m\u001b[0m\u001b[0m\n\u001b[0;32m--> 334\u001b[0;31m     \u001b[0;32mreturn\u001b[0m \u001b[0msuper\u001b[0m\u001b[0;34m(\u001b[0m\u001b[0;34m)\u001b[0m\u001b[0;34m.\u001b[0m\u001b[0mrun_cell_magic\u001b[0m\u001b[0;34m(\u001b[0m\u001b[0mmagic_name\u001b[0m\u001b[0;34m,\u001b[0m \u001b[0mline\u001b[0m\u001b[0;34m,\u001b[0m \u001b[0mcell\u001b[0m\u001b[0;34m)\u001b[0m\u001b[0;34m\u001b[0m\u001b[0;34m\u001b[0m\u001b[0m\n\u001b[0m\u001b[1;32m    335\u001b[0m \u001b[0;34m\u001b[0m\u001b[0m\n\u001b[1;32m    336\u001b[0m \u001b[0;34m\u001b[0m\u001b[0m\n",
            "\u001b[0;32m/usr/local/lib/python3.10/dist-packages/IPython/core/interactiveshell.py\u001b[0m in \u001b[0;36mrun_cell_magic\u001b[0;34m(self, magic_name, line, cell)\u001b[0m\n\u001b[1;32m   2471\u001b[0m             \u001b[0;32mwith\u001b[0m \u001b[0mself\u001b[0m\u001b[0;34m.\u001b[0m\u001b[0mbuiltin_trap\u001b[0m\u001b[0;34m:\u001b[0m\u001b[0;34m\u001b[0m\u001b[0;34m\u001b[0m\u001b[0m\n\u001b[1;32m   2472\u001b[0m                 \u001b[0margs\u001b[0m \u001b[0;34m=\u001b[0m \u001b[0;34m(\u001b[0m\u001b[0mmagic_arg_s\u001b[0m\u001b[0;34m,\u001b[0m \u001b[0mcell\u001b[0m\u001b[0;34m)\u001b[0m\u001b[0;34m\u001b[0m\u001b[0;34m\u001b[0m\u001b[0m\n\u001b[0;32m-> 2473\u001b[0;31m                 \u001b[0mresult\u001b[0m \u001b[0;34m=\u001b[0m \u001b[0mfn\u001b[0m\u001b[0;34m(\u001b[0m\u001b[0;34m*\u001b[0m\u001b[0margs\u001b[0m\u001b[0;34m,\u001b[0m \u001b[0;34m**\u001b[0m\u001b[0mkwargs\u001b[0m\u001b[0;34m)\u001b[0m\u001b[0;34m\u001b[0m\u001b[0;34m\u001b[0m\u001b[0m\n\u001b[0m\u001b[1;32m   2474\u001b[0m             \u001b[0;32mreturn\u001b[0m \u001b[0mresult\u001b[0m\u001b[0;34m\u001b[0m\u001b[0;34m\u001b[0m\u001b[0m\n\u001b[1;32m   2475\u001b[0m \u001b[0;34m\u001b[0m\u001b[0m\n",
            "\u001b[0;32m/usr/local/lib/python3.10/dist-packages/IPython/core/magics/script.py\u001b[0m in \u001b[0;36mnamed_script_magic\u001b[0;34m(line, cell)\u001b[0m\n\u001b[1;32m    140\u001b[0m             \u001b[0;32melse\u001b[0m\u001b[0;34m:\u001b[0m\u001b[0;34m\u001b[0m\u001b[0;34m\u001b[0m\u001b[0m\n\u001b[1;32m    141\u001b[0m                 \u001b[0mline\u001b[0m \u001b[0;34m=\u001b[0m \u001b[0mscript\u001b[0m\u001b[0;34m\u001b[0m\u001b[0;34m\u001b[0m\u001b[0m\n\u001b[0;32m--> 142\u001b[0;31m             \u001b[0;32mreturn\u001b[0m \u001b[0mself\u001b[0m\u001b[0;34m.\u001b[0m\u001b[0mshebang\u001b[0m\u001b[0;34m(\u001b[0m\u001b[0mline\u001b[0m\u001b[0;34m,\u001b[0m \u001b[0mcell\u001b[0m\u001b[0;34m)\u001b[0m\u001b[0;34m\u001b[0m\u001b[0;34m\u001b[0m\u001b[0m\n\u001b[0m\u001b[1;32m    143\u001b[0m \u001b[0;34m\u001b[0m\u001b[0m\n\u001b[1;32m    144\u001b[0m         \u001b[0;31m# write a basic docstring:\u001b[0m\u001b[0;34m\u001b[0m\u001b[0;34m\u001b[0m\u001b[0m\n",
            "\u001b[0;32m<decorator-gen-103>\u001b[0m in \u001b[0;36mshebang\u001b[0;34m(self, line, cell)\u001b[0m\n",
            "\u001b[0;32m/usr/local/lib/python3.10/dist-packages/IPython/core/magic.py\u001b[0m in \u001b[0;36m<lambda>\u001b[0;34m(f, *a, **k)\u001b[0m\n\u001b[1;32m    185\u001b[0m     \u001b[0;31m# but it's overkill for just that one bit of state.\u001b[0m\u001b[0;34m\u001b[0m\u001b[0;34m\u001b[0m\u001b[0m\n\u001b[1;32m    186\u001b[0m     \u001b[0;32mdef\u001b[0m \u001b[0mmagic_deco\u001b[0m\u001b[0;34m(\u001b[0m\u001b[0marg\u001b[0m\u001b[0;34m)\u001b[0m\u001b[0;34m:\u001b[0m\u001b[0;34m\u001b[0m\u001b[0;34m\u001b[0m\u001b[0m\n\u001b[0;32m--> 187\u001b[0;31m         \u001b[0mcall\u001b[0m \u001b[0;34m=\u001b[0m \u001b[0;32mlambda\u001b[0m \u001b[0mf\u001b[0m\u001b[0;34m,\u001b[0m \u001b[0;34m*\u001b[0m\u001b[0ma\u001b[0m\u001b[0;34m,\u001b[0m \u001b[0;34m**\u001b[0m\u001b[0mk\u001b[0m\u001b[0;34m:\u001b[0m \u001b[0mf\u001b[0m\u001b[0;34m(\u001b[0m\u001b[0;34m*\u001b[0m\u001b[0ma\u001b[0m\u001b[0;34m,\u001b[0m \u001b[0;34m**\u001b[0m\u001b[0mk\u001b[0m\u001b[0;34m)\u001b[0m\u001b[0;34m\u001b[0m\u001b[0;34m\u001b[0m\u001b[0m\n\u001b[0m\u001b[1;32m    188\u001b[0m \u001b[0;34m\u001b[0m\u001b[0m\n\u001b[1;32m    189\u001b[0m         \u001b[0;32mif\u001b[0m \u001b[0mcallable\u001b[0m\u001b[0;34m(\u001b[0m\u001b[0marg\u001b[0m\u001b[0;34m)\u001b[0m\u001b[0;34m:\u001b[0m\u001b[0;34m\u001b[0m\u001b[0;34m\u001b[0m\u001b[0m\n",
            "\u001b[0;32m/usr/local/lib/python3.10/dist-packages/IPython/core/magics/script.py\u001b[0m in \u001b[0;36mshebang\u001b[0;34m(self, line, cell)\u001b[0m\n\u001b[1;32m    243\u001b[0m             \u001b[0msys\u001b[0m\u001b[0;34m.\u001b[0m\u001b[0mstderr\u001b[0m\u001b[0;34m.\u001b[0m\u001b[0mflush\u001b[0m\u001b[0;34m(\u001b[0m\u001b[0;34m)\u001b[0m\u001b[0;34m\u001b[0m\u001b[0;34m\u001b[0m\u001b[0m\n\u001b[1;32m    244\u001b[0m         \u001b[0;32mif\u001b[0m \u001b[0margs\u001b[0m\u001b[0;34m.\u001b[0m\u001b[0mraise_error\u001b[0m \u001b[0;32mand\u001b[0m \u001b[0mp\u001b[0m\u001b[0;34m.\u001b[0m\u001b[0mreturncode\u001b[0m\u001b[0;34m!=\u001b[0m\u001b[0;36m0\u001b[0m\u001b[0;34m:\u001b[0m\u001b[0;34m\u001b[0m\u001b[0;34m\u001b[0m\u001b[0m\n\u001b[0;32m--> 245\u001b[0;31m             \u001b[0;32mraise\u001b[0m \u001b[0mCalledProcessError\u001b[0m\u001b[0;34m(\u001b[0m\u001b[0mp\u001b[0m\u001b[0;34m.\u001b[0m\u001b[0mreturncode\u001b[0m\u001b[0;34m,\u001b[0m \u001b[0mcell\u001b[0m\u001b[0;34m,\u001b[0m \u001b[0moutput\u001b[0m\u001b[0;34m=\u001b[0m\u001b[0mout\u001b[0m\u001b[0;34m,\u001b[0m \u001b[0mstderr\u001b[0m\u001b[0;34m=\u001b[0m\u001b[0merr\u001b[0m\u001b[0;34m)\u001b[0m\u001b[0;34m\u001b[0m\u001b[0;34m\u001b[0m\u001b[0m\n\u001b[0m\u001b[1;32m    246\u001b[0m \u001b[0;34m\u001b[0m\u001b[0m\n\u001b[1;32m    247\u001b[0m     \u001b[0;32mdef\u001b[0m \u001b[0m_run_script\u001b[0m\u001b[0;34m(\u001b[0m\u001b[0mself\u001b[0m\u001b[0;34m,\u001b[0m \u001b[0mp\u001b[0m\u001b[0;34m,\u001b[0m \u001b[0mcell\u001b[0m\u001b[0;34m,\u001b[0m \u001b[0mto_close\u001b[0m\u001b[0;34m)\u001b[0m\u001b[0;34m:\u001b[0m\u001b[0;34m\u001b[0m\u001b[0;34m\u001b[0m\u001b[0m\n",
            "\u001b[0;31mCalledProcessError\u001b[0m: Command 'b'grep \"example$\" combinedExample.txt\\n'' returned non-zero exit status 1."
          ]
        }
      ]
    },
    {
      "cell_type": "code",
      "source": [
        "%%bash\n",
        "cat > myScript\n",
        "#!/bin/bash\n",
        "echo \"Hello World!\""
      ],
      "metadata": {
        "id": "kl6sig6ANj7q"
      },
      "execution_count": 23,
      "outputs": []
    },
    {
      "cell_type": "code",
      "source": [
        "%%bash\n",
        "cat myScript"
      ],
      "metadata": {
        "colab": {
          "base_uri": "https://localhost:8080/"
        },
        "id": "dDoyAR4gNon7",
        "outputId": "64410aeb-f9f3-48a5-9796-aa36c4a0bf39"
      },
      "execution_count": 24,
      "outputs": [
        {
          "output_type": "stream",
          "name": "stdout",
          "text": [
            "#!/bin/bash\n",
            "echo \"Hello World!\"\n"
          ]
        }
      ]
    },
    {
      "cell_type": "code",
      "source": [
        "%%bash\n",
        "ls -l"
      ],
      "metadata": {
        "colab": {
          "base_uri": "https://localhost:8080/"
        },
        "id": "flPJV1-3NwF-",
        "outputId": "eabba656-41d6-4676-d428-8127635ac2c6"
      },
      "execution_count": 25,
      "outputs": [
        {
          "output_type": "stream",
          "name": "stdout",
          "text": [
            "total 20\n",
            "-rw-r--r-- 1 root root  303 Jun 26 06:15 combinedExample.txt\n",
            "-rw-r--r-- 1 root root  157 Jan 13  2022 exampleTwo.txt\n",
            "-rw-r--r-- 1 root root  146 Jan 13  2022 example.txt\n",
            "-rw-r--r-- 1 root root   32 Jun 26 06:23 myScript\n",
            "drwxr-xr-x 1 root root 4096 Jun 24 13:28 sample_data\n"
          ]
        }
      ]
    },
    {
      "cell_type": "code",
      "source": [
        "%%bash\n",
        "chmod u+x myScript"
      ],
      "metadata": {
        "id": "XmDSJtH1OC22"
      },
      "execution_count": 26,
      "outputs": []
    },
    {
      "cell_type": "code",
      "source": [
        "%%bash\n",
        "ls -l"
      ],
      "metadata": {
        "colab": {
          "base_uri": "https://localhost:8080/"
        },
        "id": "-fGfjPnXOQUj",
        "outputId": "14df3bcc-35cf-495c-ca38-536b50e9db20"
      },
      "execution_count": 27,
      "outputs": [
        {
          "output_type": "stream",
          "name": "stdout",
          "text": [
            "total 20\n",
            "-rw-r--r-- 1 root root  303 Jun 26 06:15 combinedExample.txt\n",
            "-rw-r--r-- 1 root root  157 Jan 13  2022 exampleTwo.txt\n",
            "-rw-r--r-- 1 root root  146 Jan 13  2022 example.txt\n",
            "-rwxr--r-- 1 root root   32 Jun 26 06:23 myScript\n",
            "drwxr-xr-x 1 root root 4096 Jun 24 13:28 sample_data\n"
          ]
        }
      ]
    },
    {
      "cell_type": "code",
      "source": [
        "%%bash\n",
        "./myScript"
      ],
      "metadata": {
        "colab": {
          "base_uri": "https://localhost:8080/"
        },
        "id": "WK2vSorSOYQ9",
        "outputId": "8aff161b-507e-4982-ddb2-46d0b57e5b3f"
      },
      "execution_count": 28,
      "outputs": [
        {
          "output_type": "stream",
          "name": "stdout",
          "text": [
            "Hello World!\n"
          ]
        }
      ]
    },
    {
      "cell_type": "code",
      "source": [
        "%%bash\n",
        "/content/myScript"
      ],
      "metadata": {
        "colab": {
          "base_uri": "https://localhost:8080/"
        },
        "id": "NnD8VykJOdd5",
        "outputId": "32ee443e-14c2-439f-d096-aaa120aed64a"
      },
      "execution_count": 29,
      "outputs": [
        {
          "output_type": "stream",
          "name": "stdout",
          "text": [
            "Hello World!\n"
          ]
        }
      ]
    },
    {
      "cell_type": "code",
      "source": [
        "%%bash\n",
        "cat > apprendPractice.txt\n",
        "This file has 1 line."
      ],
      "metadata": {
        "id": "RX0kd5T2Okax"
      },
      "execution_count": 30,
      "outputs": []
    },
    {
      "cell_type": "code",
      "source": [
        "%%bash\n",
        "cat >> apprendPractice.txt\n",
        "This file has 2 lines."
      ],
      "metadata": {
        "id": "NkkGvpLjOpRl"
      },
      "execution_count": 31,
      "outputs": []
    },
    {
      "cell_type": "code",
      "source": [
        "\n",
        "%%bash\n",
        "cat >> apprendPractice.txt\n",
        "This file has 3 lines."
      ],
      "metadata": {
        "id": "CleJJr-0OqZj"
      },
      "execution_count": 33,
      "outputs": []
    },
    {
      "cell_type": "code",
      "source": [
        "%%bash\n",
        "cat apprendPractice.txt"
      ],
      "metadata": {
        "colab": {
          "base_uri": "https://localhost:8080/"
        },
        "id": "1XHIVqjwO08C",
        "outputId": "3d28fef4-13c7-4783-e149-dd74aec3e83b"
      },
      "execution_count": 34,
      "outputs": [
        {
          "output_type": "stream",
          "name": "stdout",
          "text": [
            "This file has 1 line.\n",
            "This file has 2 lines.\n",
            "This file has 3 lines.\n"
          ]
        }
      ]
    },
    {
      "cell_type": "code",
      "source": [
        "%%bash\n",
        "touch example.txt exampleTwo.txt exampleThree.txt"
      ],
      "metadata": {
        "id": "44cZYvhbO_Lf"
      },
      "execution_count": 35,
      "outputs": []
    },
    {
      "cell_type": "code",
      "source": [
        "%%bash\n",
        "for file in *.txt; do\n",
        "    echo \"Text file found!\"\n",
        "    echo $file\n",
        "done"
      ],
      "metadata": {
        "colab": {
          "base_uri": "https://localhost:8080/"
        },
        "id": "T-qDvoxKPDVm",
        "outputId": "15e45b78-9c45-410b-826b-9651b5a273dd"
      },
      "execution_count": 36,
      "outputs": [
        {
          "output_type": "stream",
          "name": "stdout",
          "text": [
            "Text file found!\n",
            "apprendPractice.txt\n",
            "Text file found!\n",
            "combinedExample.txt\n",
            "Text file found!\n",
            "exampleThree.txt\n",
            "Text file found!\n",
            "exampleTwo.txt\n",
            "Text file found!\n",
            "example.txt\n"
          ]
        }
      ]
    },
    {
      "cell_type": "code",
      "source": [
        "# @title Текст заголовка по умолчанию\n",
        "%%bash\n",
        "for line in *.txt; do\n",
        "    echo \"Text file found!\"\n",
        "    echo $line\n",
        "done"
      ],
      "metadata": {
        "colab": {
          "base_uri": "https://localhost:8080/"
        },
        "id": "UJUcN4qCPVmz",
        "outputId": "d5eb290e-5bec-4506-8dc5-bbbcbd262078"
      },
      "execution_count": 41,
      "outputs": [
        {
          "output_type": "stream",
          "name": "stdout",
          "text": [
            "Text file found!\n",
            "apprendPractice.txt\n",
            "Text file found!\n",
            "combinedExample.txt\n",
            "Text file found!\n",
            "exampleThree.txt\n",
            "Text file found!\n",
            "exampleTwo.txt\n",
            "Text file found!\n",
            "example.txt\n"
          ]
        }
      ]
    },
    {
      "cell_type": "code",
      "source": [
        "%%bash\n",
        "wget -nv -O IGHJ_Mouse.fa 'https://drive.google.com/uc?export=download&id=19OjK8m9M9WwUZpB-5FLSu7RWeQhRbYKO'\n",
        "wget -nv -O IGHJ_Human.fa 'https://drive.google.com/uc?export=download&id=1kUzbiYfBOYQDXUaUzJ4NEGJN9ysPulBz'\n",
        "wget -nv -O IGHJ_Zebrafish.fa 'https://drive.google.com/uc?export=download&id=1m0VB08CBfl6GZ9rfCtmDyh6PI7elHcak'"
      ],
      "metadata": {
        "colab": {
          "base_uri": "https://localhost:8080/"
        },
        "id": "MHvuC_9TQRrI",
        "outputId": "989ae199-12c8-4ed6-ec33-ca84597217da"
      },
      "execution_count": 42,
      "outputs": [
        {
          "output_type": "stream",
          "name": "stderr",
          "text": [
            "2024-06-26 06:34:58 URL:https://drive.usercontent.google.com/download?id=19OjK8m9M9WwUZpB-5FLSu7RWeQhRbYKO&export=download [1178/1178] -> \"IGHJ_Mouse.fa\" [1]\n",
            "2024-06-26 06:34:59 URL:https://drive.usercontent.google.com/download?id=1kUzbiYfBOYQDXUaUzJ4NEGJN9ysPulBz&export=download [2639/2639] -> \"IGHJ_Human.fa\" [1]\n",
            "2024-06-26 06:34:59 URL:https://drive.usercontent.google.com/download?id=1m0VB08CBfl6GZ9rfCtmDyh6PI7elHcak&export=download [1034/1034] -> \"IGHJ_Zebrafish.fa\" [1]\n"
          ]
        }
      ]
    },
    {
      "cell_type": "code",
      "source": [
        "%%bash\n",
        "cat IGHJ_Mouse.fa IGHJ_Human.fa IGHJ_Zebrafish.fa > headers.txt\n",
        "ls"
      ],
      "metadata": {
        "colab": {
          "base_uri": "https://localhost:8080/"
        },
        "id": "wN_QBBLqSbri",
        "outputId": "54a4b2d5-04d2-49cd-b67b-3fc300044e82"
      },
      "execution_count": 43,
      "outputs": [
        {
          "output_type": "stream",
          "name": "stdout",
          "text": [
            "apprendPractice.txt\n",
            "combinedExample.txt\n",
            "exampleThree.txt\n",
            "exampleTwo.txt\n",
            "example.txt\n",
            "headers.txt\n",
            "IGHJ_Human.fa\n",
            "IGHJ_Mouse.fa\n",
            "IGHJ_Zebrafish.fa\n",
            "myScript\n",
            "sample_data\n"
          ]
        }
      ]
    },
    {
      "cell_type": "code",
      "source": [
        "%%bash\n",
        "cat headers.txt"
      ],
      "metadata": {
        "colab": {
          "base_uri": "https://localhost:8080/"
        },
        "id": "gXzyIKk1S7TN",
        "outputId": "67b923e5-fb0f-40d9-f600-9901fa1d2a5c"
      },
      "execution_count": 44,
      "outputs": [
        {
          "output_type": "stream",
          "name": "stdout",
          "text": [
            ">V00762|IGHJ1*01|Mus musculus_BALB/c|F|J-REGION|444..496|53 nt|2| | | | |53+0=53| | |\n",
            "ctactggtacttcgatgtctggggcgcagggaccacggtcaccgtctcctcag\n",
            ">V00770|IGHJ1*02|Mus musculus|F|J-REGION|65..117|53 nt|2| | | | |53+0=53| | |\n",
            "ctactggtacttcgatgtctggggcgcagggaccacggtcaccgtttcctcag\n",
            ">X63164|IGHJ1*03|Mus musculus_A/J|F|J-REGION|12..64|53 nt|2| | | | |53+0=53| | |\n",
            "ctactggtacttcgatgtctggggcacagggaccacggtcaccgtctcctcag\n",
            ">V00770|IGHJ2*01|Mus musculus|F|J-REGION|383..430|48 nt|3| | | | |48+0=48| | |\n",
            "actactttgactactggggccaaggcaccactctcacagtctcctcag\n",
            ">S73821|IGHJ2*02|Mus musculus|F|J-REGION|267..314|48 nt|3| | | | |48+0=48| | |\n",
            "actactttgactactggggccaaggcacctctctcacagtctcctcag\n",
            ">S77041|IGHJ2*03|Mus musculus|F|J-REGION|1..46|46 nt|1| | | | |46+0=46| | |\n",
            "tactttgactactggggccaaggcaccagtctcacagtctcctcag\n",
            ">V00770|IGHJ3*01|Mus musculus|F|J-REGION|766..813|48 nt|3| | | | |48+0=48| | |\n",
            "cctggtttgcttactggggccaagggactctggtcactgtctctgcag\n",
            ">S73821|IGHJ3*02|Mus musculus|P|J-REGION|650..697|48 nt|3| | | | |48+0=48| | |\n",
            "cctggtttggttagtggggccaagggactctggtcactgtctctgcag\n",
            ">V00770|IGHJ4*01|Mus musculus|F|J-REGION|1333..1386|54 nt|3| | | | |54+0=54| | |\n",
            "attactatgctatggactactggggtcaaggaacctcagtcaccgtctcctcag\n",
            ">J00256|IGHJ1*01|Homo sapiens|F|J-REGION|723..774|52 nt|1| | | | |52+0=52| | |\n",
            "gctgaatacttccagcactggggccagggcaccctggtcaccgtctcctcag\n",
            ">J00256|IGHJ1P*01|Homo sapiens|P|J-REGION|504..557|54 nt|1| | | | |54+0=54| | |\n",
            "aaaggtgctgggggtcccctgaacccgacccgccctgagaccgcagccacatca\n",
            ">IMGT000035|IGHJ1P*02|Homo sapiens|P|J-REGION|1014168..1014221|54 nt|1| | | | |54+0=54| | |\n",
            "aaaggtgctgggggcccctggacccgacccgccctggagaccgcagccacatca\n",
            ">J00256|IGHJ2*01|Homo sapiens|F|J-REGION|932..984|53 nt|2| | | | |53+0=53| | |\n",
            "ctactggtacttcgatctctggggccgtggcaccctggtcactgtctcctcag\n",
            ">J00256|IGHJ2P*01|Homo sapiens|P|J-REGION|1320..1380|61 nt|1| | | | |61+0=61| | |\n",
            "gctacaagtgcttggagcactggggcagggcagcccggacaccgtctccctgggaacgtc\n",
            "a\n",
            ">IMGT000035|IGHJ2P*02|Homo sapiens|P|J-REGION|1014993..1015054|62 nt|3| | | | |62+0=62| | |\n",
            "gctacaagtgcttggagcactggggccagggcagcccggccaccgtctccctgggaacgt\n",
            "ca\n",
            ">J00256|IGHJ3*01|Homo sapiens|F|J-REGION|1537..1586|50 nt|2| | | | |50+0=50| | |\n",
            "tgatgcttttgatgtctggggccaagggacaatggtcaccgtctcttcag\n",
            ">X86355|IGHJ3*02|Homo sapiens|F|J-REGION|1107..1156|50 nt|2| | | | |50+0=50| | |\n",
            "tgatgcttttgatatctggggccaagggacaatggtcaccgtctcttcag\n",
            ">J00256|IGHJ3P*01|Homo sapiens|P|J-REGION|2746..2797|52 nt|1| | | | |52+0=52| | |\n",
            "cttgcggttggacttcccagccgacagtggtggtctggcttctgaggggtca\n",
            ">X86355|IGHJ3P*02|Homo sapiens|P|J-REGION|2277..2326|50 nt|1| | | | |50+0=50| | |\n",
            "cttgcagttggacttcccaggccgacagtggtctggcttctgaggggtca\n",
            ">J00256|IGHJ4*01|Homo sapiens|F|J-REGION|1912..1959|48 nt|3| | | | |48+0=48| | |\n",
            "actactttgactactggggccaaggaaccctggtcaccgtctcctcag\n",
            ">X86355|IGHJ4*02|Homo sapiens|F|J-REGION|1480..1527|48 nt|3| | | | |48+0=48| | |\n",
            "actactttgactactggggccagggaaccctggtcaccgtctcctcag\n",
            ">M25625|IGHJ4*03|Homo sapiens|F|J-REGION|446..493|48 nt|3| | | | |48+0=48| | |\n",
            "gctactttgactactggggccaagggaccctggtcaccgtctcctcag\n",
            ">J00256|IGHJ5*01|Homo sapiens|F|J-REGION|2354..2404|51 nt|3| | | | |51+0=51| | |\n",
            "acaactggttcgactcctggggccaaggaaccctggtcaccgtctcctcag\n",
            ">X86355|IGHJ5*02|Homo sapiens|F|J-REGION|1878..1928|51 nt|3| | | | |51+0=51| | |\n",
            "acaactggttcgacccctggggccagggaaccctggtcaccgtctcctcag\n",
            ">J00256|IGHJ6*01|Homo sapiens|F|J-REGION|2947..3009|63 nt|3| | | | |63+0=63| | |\n",
            "attactactactactacggtatggacgtctgggggcaagggaccacggtcaccgtctcct\n",
            "cag\n",
            ">X86355|IGHJ6*02|Homo sapiens|F|J-REGION|2482..2543|62 nt|3| | | | |62+0=62|partial in 3'| |\n",
            "attactactactactacggtatggacgtctggggccaagggaccacggtcaccgtctcct\n",
            "ca\n",
            ">X86356|IGHJ6*03|Homo sapiens|F|J-REGION|2482..2543|62 nt|3| | | | |62+0=62|partial in 3'| |\n",
            "attactactactactactacatggacgtctggggcaaagggaccacggtcaccgtctcct\n",
            "ca\n",
            ">AJ879487|IGHJ6*04|Homo sapiens|F|J-REGION|39..101|63 nt|3| | | | |63+0=63| | |\n",
            "attactactactactacggtatggacgtctggggcaaagggaccacggtcaccgtctcct\n",
            "cag\n",
            ">BX649502|IGHJ1-1*01|Danio rerio_Tuebingen|F|J-REGION|237816..237860|45 nt|3| | | | |45+0=45| | |\n",
            "ctgcttttgactactggggtaaaggcacacaagtgaccgttgcag\n",
            ">BX649502|IGHJ1-2*01|Danio rerio_Tuebingen|F|J-REGION|238370..238415|46 nt|1| | | | |46+0=46| | |\n",
            "agctacttcgactactggggtagagggacgcaggtgaccgtgacaa\n",
            ">BX510335|IGHJ2-1*01|Danio rerio_Tuebingen|F|J-REGION|22095..22145|51 nt|3| | | | |51+0=51| | |\n",
            "actactactttgactactgggggaaaggaaccaaagtgacagtttcctcag\n",
            ">BX510335|IGHJ2-2*01|Danio rerio_Tuebingen|F|J-REGION|22394..22444|51 nt|3| | | | |51+0=51| | |\n",
            "acggtgcctttgactactggggaaagggaacaatggtcactgtcacatcag\n",
            ">BX510335|IGHJ2-3*01|Danio rerio_Tuebingen|F|J-REGION|22658..22711|54 nt|3| | | | |54+0=54| | |\n",
            "acaatgctgcctttgactactggggaaaaggcacgatggtcacagtgacatcag\n",
            ">BX510335|IGHJ2-4*01|Danio rerio_Tuebingen|F|J-REGION|22961..23011|51 nt|3| | | | |51+0=51| | |\n",
            "acaatgcttttgactactgggggaaaggaactatggtcaccgtctcgtcag\n",
            ">BX510335|IGHJ2-5*01|Danio rerio_Tuebingen|F|J-REGION|23202..23254|53 nt|2| | | | |53+0=53| | |\n",
            "taactgggcgttcgactactggggaagcggcaccaaagtctccgtaacaaaca\n"
          ]
        }
      ]
    },
    {
      "cell_type": "code",
      "source": [
        "%%bash\n",
        "rm headers.txt"
      ],
      "metadata": {
        "id": "7oY_nfg8TP3k"
      },
      "execution_count": 45,
      "outputs": []
    },
    {
      "cell_type": "code",
      "source": [
        "%%bash\n",
        "cat IGHJ_Mouse.fa IGHJ_Human.fa IGHJ_Zebrafish.fa > headerExtractor\n",
        "ls"
      ],
      "metadata": {
        "colab": {
          "base_uri": "https://localhost:8080/"
        },
        "id": "KamxhWaLTUcP",
        "outputId": "13fa419f-82a0-45ba-99c6-654b30a3cc14"
      },
      "execution_count": 46,
      "outputs": [
        {
          "output_type": "stream",
          "name": "stdout",
          "text": [
            "apprendPractice.txt\n",
            "combinedExample.txt\n",
            "exampleThree.txt\n",
            "exampleTwo.txt\n",
            "example.txt\n",
            "headerExtractor\n",
            "IGHJ_Human.fa\n",
            "IGHJ_Mouse.fa\n",
            "IGHJ_Zebrafish.fa\n",
            "myScript\n",
            "sample_data\n"
          ]
        }
      ]
    },
    {
      "cell_type": "code",
      "source": [
        "%%bash\n",
        "cat headerExtractor > headers.txt\n",
        "ls"
      ],
      "metadata": {
        "colab": {
          "base_uri": "https://localhost:8080/"
        },
        "id": "vRWcrGemTfB0",
        "outputId": "f54a5c21-8a27-4417-eed4-5a04da109833"
      },
      "execution_count": 47,
      "outputs": [
        {
          "output_type": "stream",
          "name": "stdout",
          "text": [
            "apprendPractice.txt\n",
            "combinedExample.txt\n",
            "exampleThree.txt\n",
            "exampleTwo.txt\n",
            "example.txt\n",
            "headerExtractor\n",
            "headers.txt\n",
            "IGHJ_Human.fa\n",
            "IGHJ_Mouse.fa\n",
            "IGHJ_Zebrafish.fa\n",
            "myScript\n",
            "sample_data\n"
          ]
        }
      ]
    },
    {
      "cell_type": "code",
      "source": [
        "%%bash\n",
        "cat headerExtractor"
      ],
      "metadata": {
        "colab": {
          "base_uri": "https://localhost:8080/"
        },
        "id": "w-juWMFoTlg5",
        "outputId": "8dfefe74-fb57-415e-801f-7d85276582d0"
      },
      "execution_count": 51,
      "outputs": [
        {
          "output_type": "stream",
          "name": "stdout",
          "text": [
            ">V00762|IGHJ1*01|Mus musculus_BALB/c|F|J-REGION|444..496|53 nt|2| | | | |53+0=53| | |\n",
            "ctactggtacttcgatgtctggggcgcagggaccacggtcaccgtctcctcag\n",
            ">V00770|IGHJ1*02|Mus musculus|F|J-REGION|65..117|53 nt|2| | | | |53+0=53| | |\n",
            "ctactggtacttcgatgtctggggcgcagggaccacggtcaccgtttcctcag\n",
            ">X63164|IGHJ1*03|Mus musculus_A/J|F|J-REGION|12..64|53 nt|2| | | | |53+0=53| | |\n",
            "ctactggtacttcgatgtctggggcacagggaccacggtcaccgtctcctcag\n",
            ">V00770|IGHJ2*01|Mus musculus|F|J-REGION|383..430|48 nt|3| | | | |48+0=48| | |\n",
            "actactttgactactggggccaaggcaccactctcacagtctcctcag\n",
            ">S73821|IGHJ2*02|Mus musculus|F|J-REGION|267..314|48 nt|3| | | | |48+0=48| | |\n",
            "actactttgactactggggccaaggcacctctctcacagtctcctcag\n",
            ">S77041|IGHJ2*03|Mus musculus|F|J-REGION|1..46|46 nt|1| | | | |46+0=46| | |\n",
            "tactttgactactggggccaaggcaccagtctcacagtctcctcag\n",
            ">V00770|IGHJ3*01|Mus musculus|F|J-REGION|766..813|48 nt|3| | | | |48+0=48| | |\n",
            "cctggtttgcttactggggccaagggactctggtcactgtctctgcag\n",
            ">S73821|IGHJ3*02|Mus musculus|P|J-REGION|650..697|48 nt|3| | | | |48+0=48| | |\n",
            "cctggtttggttagtggggccaagggactctggtcactgtctctgcag\n",
            ">V00770|IGHJ4*01|Mus musculus|F|J-REGION|1333..1386|54 nt|3| | | | |54+0=54| | |\n",
            "attactatgctatggactactggggtcaaggaacctcagtcaccgtctcctcag\n",
            ">J00256|IGHJ1*01|Homo sapiens|F|J-REGION|723..774|52 nt|1| | | | |52+0=52| | |\n",
            "gctgaatacttccagcactggggccagggcaccctggtcaccgtctcctcag\n",
            ">J00256|IGHJ1P*01|Homo sapiens|P|J-REGION|504..557|54 nt|1| | | | |54+0=54| | |\n",
            "aaaggtgctgggggtcccctgaacccgacccgccctgagaccgcagccacatca\n",
            ">IMGT000035|IGHJ1P*02|Homo sapiens|P|J-REGION|1014168..1014221|54 nt|1| | | | |54+0=54| | |\n",
            "aaaggtgctgggggcccctggacccgacccgccctggagaccgcagccacatca\n",
            ">J00256|IGHJ2*01|Homo sapiens|F|J-REGION|932..984|53 nt|2| | | | |53+0=53| | |\n",
            "ctactggtacttcgatctctggggccgtggcaccctggtcactgtctcctcag\n",
            ">J00256|IGHJ2P*01|Homo sapiens|P|J-REGION|1320..1380|61 nt|1| | | | |61+0=61| | |\n",
            "gctacaagtgcttggagcactggggcagggcagcccggacaccgtctccctgggaacgtc\n",
            "a\n",
            ">IMGT000035|IGHJ2P*02|Homo sapiens|P|J-REGION|1014993..1015054|62 nt|3| | | | |62+0=62| | |\n",
            "gctacaagtgcttggagcactggggccagggcagcccggccaccgtctccctgggaacgt\n",
            "ca\n",
            ">J00256|IGHJ3*01|Homo sapiens|F|J-REGION|1537..1586|50 nt|2| | | | |50+0=50| | |\n",
            "tgatgcttttgatgtctggggccaagggacaatggtcaccgtctcttcag\n",
            ">X86355|IGHJ3*02|Homo sapiens|F|J-REGION|1107..1156|50 nt|2| | | | |50+0=50| | |\n",
            "tgatgcttttgatatctggggccaagggacaatggtcaccgtctcttcag\n",
            ">J00256|IGHJ3P*01|Homo sapiens|P|J-REGION|2746..2797|52 nt|1| | | | |52+0=52| | |\n",
            "cttgcggttggacttcccagccgacagtggtggtctggcttctgaggggtca\n",
            ">X86355|IGHJ3P*02|Homo sapiens|P|J-REGION|2277..2326|50 nt|1| | | | |50+0=50| | |\n",
            "cttgcagttggacttcccaggccgacagtggtctggcttctgaggggtca\n",
            ">J00256|IGHJ4*01|Homo sapiens|F|J-REGION|1912..1959|48 nt|3| | | | |48+0=48| | |\n",
            "actactttgactactggggccaaggaaccctggtcaccgtctcctcag\n",
            ">X86355|IGHJ4*02|Homo sapiens|F|J-REGION|1480..1527|48 nt|3| | | | |48+0=48| | |\n",
            "actactttgactactggggccagggaaccctggtcaccgtctcctcag\n",
            ">M25625|IGHJ4*03|Homo sapiens|F|J-REGION|446..493|48 nt|3| | | | |48+0=48| | |\n",
            "gctactttgactactggggccaagggaccctggtcaccgtctcctcag\n",
            ">J00256|IGHJ5*01|Homo sapiens|F|J-REGION|2354..2404|51 nt|3| | | | |51+0=51| | |\n",
            "acaactggttcgactcctggggccaaggaaccctggtcaccgtctcctcag\n",
            ">X86355|IGHJ5*02|Homo sapiens|F|J-REGION|1878..1928|51 nt|3| | | | |51+0=51| | |\n",
            "acaactggttcgacccctggggccagggaaccctggtcaccgtctcctcag\n",
            ">J00256|IGHJ6*01|Homo sapiens|F|J-REGION|2947..3009|63 nt|3| | | | |63+0=63| | |\n",
            "attactactactactacggtatggacgtctgggggcaagggaccacggtcaccgtctcct\n",
            "cag\n",
            ">X86355|IGHJ6*02|Homo sapiens|F|J-REGION|2482..2543|62 nt|3| | | | |62+0=62|partial in 3'| |\n",
            "attactactactactacggtatggacgtctggggccaagggaccacggtcaccgtctcct\n",
            "ca\n",
            ">X86356|IGHJ6*03|Homo sapiens|F|J-REGION|2482..2543|62 nt|3| | | | |62+0=62|partial in 3'| |\n",
            "attactactactactactacatggacgtctggggcaaagggaccacggtcaccgtctcct\n",
            "ca\n",
            ">AJ879487|IGHJ6*04|Homo sapiens|F|J-REGION|39..101|63 nt|3| | | | |63+0=63| | |\n",
            "attactactactactacggtatggacgtctggggcaaagggaccacggtcaccgtctcct\n",
            "cag\n",
            ">BX649502|IGHJ1-1*01|Danio rerio_Tuebingen|F|J-REGION|237816..237860|45 nt|3| | | | |45+0=45| | |\n",
            "ctgcttttgactactggggtaaaggcacacaagtgaccgttgcag\n",
            ">BX649502|IGHJ1-2*01|Danio rerio_Tuebingen|F|J-REGION|238370..238415|46 nt|1| | | | |46+0=46| | |\n",
            "agctacttcgactactggggtagagggacgcaggtgaccgtgacaa\n",
            ">BX510335|IGHJ2-1*01|Danio rerio_Tuebingen|F|J-REGION|22095..22145|51 nt|3| | | | |51+0=51| | |\n",
            "actactactttgactactgggggaaaggaaccaaagtgacagtttcctcag\n",
            ">BX510335|IGHJ2-2*01|Danio rerio_Tuebingen|F|J-REGION|22394..22444|51 nt|3| | | | |51+0=51| | |\n",
            "acggtgcctttgactactggggaaagggaacaatggtcactgtcacatcag\n",
            ">BX510335|IGHJ2-3*01|Danio rerio_Tuebingen|F|J-REGION|22658..22711|54 nt|3| | | | |54+0=54| | |\n",
            "acaatgctgcctttgactactggggaaaaggcacgatggtcacagtgacatcag\n",
            ">BX510335|IGHJ2-4*01|Danio rerio_Tuebingen|F|J-REGION|22961..23011|51 nt|3| | | | |51+0=51| | |\n",
            "acaatgcttttgactactgggggaaaggaactatggtcaccgtctcgtcag\n",
            ">BX510335|IGHJ2-5*01|Danio rerio_Tuebingen|F|J-REGION|23202..23254|53 nt|2| | | | |53+0=53| | |\n",
            "taactgggcgttcgactactggggaagcggcaccaaagtctccgtaacaaaca\n"
          ]
        }
      ]
    },
    {
      "cell_type": "code",
      "source": [
        "%%bash\n",
        "cat headers.txt\n",
        "ls"
      ],
      "metadata": {
        "colab": {
          "base_uri": "https://localhost:8080/"
        },
        "id": "jqPe8rKCTppn",
        "outputId": "a4bf63bd-ed15-4e28-b25e-039d82c5228f"
      },
      "execution_count": 52,
      "outputs": [
        {
          "output_type": "stream",
          "name": "stdout",
          "text": [
            ">V00762|IGHJ1*01|Mus musculus_BALB/c|F|J-REGION|444..496|53 nt|2| | | | |53+0=53| | |\n",
            "ctactggtacttcgatgtctggggcgcagggaccacggtcaccgtctcctcag\n",
            ">V00770|IGHJ1*02|Mus musculus|F|J-REGION|65..117|53 nt|2| | | | |53+0=53| | |\n",
            "ctactggtacttcgatgtctggggcgcagggaccacggtcaccgtttcctcag\n",
            ">X63164|IGHJ1*03|Mus musculus_A/J|F|J-REGION|12..64|53 nt|2| | | | |53+0=53| | |\n",
            "ctactggtacttcgatgtctggggcacagggaccacggtcaccgtctcctcag\n",
            ">V00770|IGHJ2*01|Mus musculus|F|J-REGION|383..430|48 nt|3| | | | |48+0=48| | |\n",
            "actactttgactactggggccaaggcaccactctcacagtctcctcag\n",
            ">S73821|IGHJ2*02|Mus musculus|F|J-REGION|267..314|48 nt|3| | | | |48+0=48| | |\n",
            "actactttgactactggggccaaggcacctctctcacagtctcctcag\n",
            ">S77041|IGHJ2*03|Mus musculus|F|J-REGION|1..46|46 nt|1| | | | |46+0=46| | |\n",
            "tactttgactactggggccaaggcaccagtctcacagtctcctcag\n",
            ">V00770|IGHJ3*01|Mus musculus|F|J-REGION|766..813|48 nt|3| | | | |48+0=48| | |\n",
            "cctggtttgcttactggggccaagggactctggtcactgtctctgcag\n",
            ">S73821|IGHJ3*02|Mus musculus|P|J-REGION|650..697|48 nt|3| | | | |48+0=48| | |\n",
            "cctggtttggttagtggggccaagggactctggtcactgtctctgcag\n",
            ">V00770|IGHJ4*01|Mus musculus|F|J-REGION|1333..1386|54 nt|3| | | | |54+0=54| | |\n",
            "attactatgctatggactactggggtcaaggaacctcagtcaccgtctcctcag\n",
            ">J00256|IGHJ1*01|Homo sapiens|F|J-REGION|723..774|52 nt|1| | | | |52+0=52| | |\n",
            "gctgaatacttccagcactggggccagggcaccctggtcaccgtctcctcag\n",
            ">J00256|IGHJ1P*01|Homo sapiens|P|J-REGION|504..557|54 nt|1| | | | |54+0=54| | |\n",
            "aaaggtgctgggggtcccctgaacccgacccgccctgagaccgcagccacatca\n",
            ">IMGT000035|IGHJ1P*02|Homo sapiens|P|J-REGION|1014168..1014221|54 nt|1| | | | |54+0=54| | |\n",
            "aaaggtgctgggggcccctggacccgacccgccctggagaccgcagccacatca\n",
            ">J00256|IGHJ2*01|Homo sapiens|F|J-REGION|932..984|53 nt|2| | | | |53+0=53| | |\n",
            "ctactggtacttcgatctctggggccgtggcaccctggtcactgtctcctcag\n",
            ">J00256|IGHJ2P*01|Homo sapiens|P|J-REGION|1320..1380|61 nt|1| | | | |61+0=61| | |\n",
            "gctacaagtgcttggagcactggggcagggcagcccggacaccgtctccctgggaacgtc\n",
            "a\n",
            ">IMGT000035|IGHJ2P*02|Homo sapiens|P|J-REGION|1014993..1015054|62 nt|3| | | | |62+0=62| | |\n",
            "gctacaagtgcttggagcactggggccagggcagcccggccaccgtctccctgggaacgt\n",
            "ca\n",
            ">J00256|IGHJ3*01|Homo sapiens|F|J-REGION|1537..1586|50 nt|2| | | | |50+0=50| | |\n",
            "tgatgcttttgatgtctggggccaagggacaatggtcaccgtctcttcag\n",
            ">X86355|IGHJ3*02|Homo sapiens|F|J-REGION|1107..1156|50 nt|2| | | | |50+0=50| | |\n",
            "tgatgcttttgatatctggggccaagggacaatggtcaccgtctcttcag\n",
            ">J00256|IGHJ3P*01|Homo sapiens|P|J-REGION|2746..2797|52 nt|1| | | | |52+0=52| | |\n",
            "cttgcggttggacttcccagccgacagtggtggtctggcttctgaggggtca\n",
            ">X86355|IGHJ3P*02|Homo sapiens|P|J-REGION|2277..2326|50 nt|1| | | | |50+0=50| | |\n",
            "cttgcagttggacttcccaggccgacagtggtctggcttctgaggggtca\n",
            ">J00256|IGHJ4*01|Homo sapiens|F|J-REGION|1912..1959|48 nt|3| | | | |48+0=48| | |\n",
            "actactttgactactggggccaaggaaccctggtcaccgtctcctcag\n",
            ">X86355|IGHJ4*02|Homo sapiens|F|J-REGION|1480..1527|48 nt|3| | | | |48+0=48| | |\n",
            "actactttgactactggggccagggaaccctggtcaccgtctcctcag\n",
            ">M25625|IGHJ4*03|Homo sapiens|F|J-REGION|446..493|48 nt|3| | | | |48+0=48| | |\n",
            "gctactttgactactggggccaagggaccctggtcaccgtctcctcag\n",
            ">J00256|IGHJ5*01|Homo sapiens|F|J-REGION|2354..2404|51 nt|3| | | | |51+0=51| | |\n",
            "acaactggttcgactcctggggccaaggaaccctggtcaccgtctcctcag\n",
            ">X86355|IGHJ5*02|Homo sapiens|F|J-REGION|1878..1928|51 nt|3| | | | |51+0=51| | |\n",
            "acaactggttcgacccctggggccagggaaccctggtcaccgtctcctcag\n",
            ">J00256|IGHJ6*01|Homo sapiens|F|J-REGION|2947..3009|63 nt|3| | | | |63+0=63| | |\n",
            "attactactactactacggtatggacgtctgggggcaagggaccacggtcaccgtctcct\n",
            "cag\n",
            ">X86355|IGHJ6*02|Homo sapiens|F|J-REGION|2482..2543|62 nt|3| | | | |62+0=62|partial in 3'| |\n",
            "attactactactactacggtatggacgtctggggccaagggaccacggtcaccgtctcct\n",
            "ca\n",
            ">X86356|IGHJ6*03|Homo sapiens|F|J-REGION|2482..2543|62 nt|3| | | | |62+0=62|partial in 3'| |\n",
            "attactactactactactacatggacgtctggggcaaagggaccacggtcaccgtctcct\n",
            "ca\n",
            ">AJ879487|IGHJ6*04|Homo sapiens|F|J-REGION|39..101|63 nt|3| | | | |63+0=63| | |\n",
            "attactactactactacggtatggacgtctggggcaaagggaccacggtcaccgtctcct\n",
            "cag\n",
            ">BX649502|IGHJ1-1*01|Danio rerio_Tuebingen|F|J-REGION|237816..237860|45 nt|3| | | | |45+0=45| | |\n",
            "ctgcttttgactactggggtaaaggcacacaagtgaccgttgcag\n",
            ">BX649502|IGHJ1-2*01|Danio rerio_Tuebingen|F|J-REGION|238370..238415|46 nt|1| | | | |46+0=46| | |\n",
            "agctacttcgactactggggtagagggacgcaggtgaccgtgacaa\n",
            ">BX510335|IGHJ2-1*01|Danio rerio_Tuebingen|F|J-REGION|22095..22145|51 nt|3| | | | |51+0=51| | |\n",
            "actactactttgactactgggggaaaggaaccaaagtgacagtttcctcag\n",
            ">BX510335|IGHJ2-2*01|Danio rerio_Tuebingen|F|J-REGION|22394..22444|51 nt|3| | | | |51+0=51| | |\n",
            "acggtgcctttgactactggggaaagggaacaatggtcactgtcacatcag\n",
            ">BX510335|IGHJ2-3*01|Danio rerio_Tuebingen|F|J-REGION|22658..22711|54 nt|3| | | | |54+0=54| | |\n",
            "acaatgctgcctttgactactggggaaaaggcacgatggtcacagtgacatcag\n",
            ">BX510335|IGHJ2-4*01|Danio rerio_Tuebingen|F|J-REGION|22961..23011|51 nt|3| | | | |51+0=51| | |\n",
            "acaatgcttttgactactgggggaaaggaactatggtcaccgtctcgtcag\n",
            ">BX510335|IGHJ2-5*01|Danio rerio_Tuebingen|F|J-REGION|23202..23254|53 nt|2| | | | |53+0=53| | |\n",
            "taactgggcgttcgactactggggaagcggcaccaaagtctccgtaacaaaca\n",
            "apprendPractice.txt\n",
            "combinedExample.txt\n",
            "exampleThree.txt\n",
            "exampleTwo.txt\n",
            "example.txt\n",
            "headerExtractor\n",
            "headers.txt\n",
            "IGHJ_Human.fa\n",
            "IGHJ_Mouse.fa\n",
            "IGHJ_Zebrafish.fa\n",
            "myScript\n",
            "sample_data\n"
          ]
        }
      ]
    },
    {
      "cell_type": "code",
      "source": [
        "%%bash\n",
        "cat IGHJ_Human.fa IGHJ_Mouse.fa IGHJ_Zebrafish.fa > seqMeasurerlengths.txt\n",
        "wc seqMeasurerlengths.txt"
      ],
      "metadata": {
        "colab": {
          "base_uri": "https://localhost:8080/"
        },
        "id": "ZoI04w9OUiOe",
        "outputId": "f754d681-750f-4943-fdf0-9cf819b412b6"
      },
      "execution_count": 53,
      "outputs": [
        {
          "output_type": "stream",
          "name": "stdout",
          "text": [
            "  76  358 4851 seqMeasurerlengths.txt\n"
          ]
        }
      ]
    },
    {
      "cell_type": "code",
      "source": [
        "%%bash\n",
        "ls -l"
      ],
      "metadata": {
        "colab": {
          "base_uri": "https://localhost:8080/"
        },
        "id": "mRrmL7FxXBOG",
        "outputId": "79f8e9d4-3927-453c-fedc-8861ce545a2d"
      },
      "execution_count": 54,
      "outputs": [
        {
          "output_type": "stream",
          "name": "stdout",
          "text": [
            "total 60\n",
            "-rw-r--r-- 1 root root   68 Jun 26 06:28 apprendPractice.txt\n",
            "-rw-r--r-- 1 root root  303 Jun 26 06:15 combinedExample.txt\n",
            "-rw-r--r-- 1 root root    0 Jun 26 06:29 exampleThree.txt\n",
            "-rw-r--r-- 1 root root  157 Jun 26 06:29 exampleTwo.txt\n",
            "-rw-r--r-- 1 root root  146 Jun 26 06:29 example.txt\n",
            "-rw-r--r-- 1 root root 4851 Jun 26 06:48 headerExtractor\n",
            "-rw-r--r-- 1 root root 4851 Jun 26 06:49 headers.txt\n",
            "-rw-r--r-- 1 root root 2639 Jan 13  2022 IGHJ_Human.fa\n",
            "-rw-r--r-- 1 root root 1178 Jan 13  2022 IGHJ_Mouse.fa\n",
            "-rw-r--r-- 1 root root 1034 Jan 13  2022 IGHJ_Zebrafish.fa\n",
            "-rwxr--r-- 1 root root   32 Jun 26 06:23 myScript\n",
            "drwxr-xr-x 1 root root 4096 Jun 24 13:28 sample_data\n",
            "-rw-r--r-- 1 root root 4851 Jun 26 06:55 seqMeasurerlengths.txt\n"
          ]
        }
      ]
    },
    {
      "cell_type": "code",
      "source": [
        "%%bash\n",
        "chmod +x headerExtractor"
      ],
      "metadata": {
        "id": "y3ypQhXWXOLx"
      },
      "execution_count": 55,
      "outputs": []
    },
    {
      "cell_type": "code",
      "source": [
        "%%bash\n",
        "chmod +x seqMeasurerlengths.txt"
      ],
      "metadata": {
        "id": "L-OxLcNPXTQV"
      },
      "execution_count": 56,
      "outputs": []
    },
    {
      "cell_type": "code",
      "source": [
        "%%bash\n",
        "rm seqMeasurerlengths.txt"
      ],
      "metadata": {
        "id": "W5VkjbHxXdUR"
      },
      "execution_count": 57,
      "outputs": []
    },
    {
      "cell_type": "code",
      "source": [
        "%%bash\n",
        "cat IGHJ_Human.fa IGHJ_Mouse.fa IGHJ_Zebrafish.fa > seqMeasurer\n"
      ],
      "metadata": {
        "id": "1hF63nB3Xkgr"
      },
      "execution_count": 58,
      "outputs": []
    },
    {
      "cell_type": "code",
      "source": [
        "%%bash\n",
        "chmod u+x seqMeasurer"
      ],
      "metadata": {
        "id": "zInOqEfAXzh2"
      },
      "execution_count": 63,
      "outputs": []
    },
    {
      "cell_type": "code",
      "source": [
        "%%bash\n",
        "cat seqMeasurer > lenghts.txt\n",
        "wc lenghts.txt"
      ],
      "metadata": {
        "colab": {
          "base_uri": "https://localhost:8080/"
        },
        "id": "6Ey_tP_EX5jE",
        "outputId": "39bb0544-9166-412c-db6f-4191aa18f8e0"
      },
      "execution_count": 60,
      "outputs": [
        {
          "output_type": "stream",
          "name": "stdout",
          "text": [
            "  76  358 4851 lenghts.txt\n"
          ]
        }
      ]
    },
    {
      "cell_type": "code",
      "source": [
        "%%bash\n",
        "./seqMeasurer"
      ],
      "metadata": {
        "colab": {
          "base_uri": "https://localhost:8080/",
          "height": 370
        },
        "id": "wdPwxyX2YChT",
        "outputId": "28b59c01-ded9-40d5-a330-e9f03f414368"
      },
      "execution_count": 64,
      "outputs": [
        {
          "output_type": "stream",
          "name": "stderr",
          "text": [
            "./seqMeasurer: line 1: syntax error near unexpected token `|'\n",
            "./seqMeasurer: line 1: `>J00256|IGHJ1*01|Homo sapiens|F|J-REGION|723..774|52 nt|1| | | | |52+0=52| | |'\n"
          ]
        },
        {
          "output_type": "error",
          "ename": "CalledProcessError",
          "evalue": "Command 'b'./seqMeasurer\\n'' returned non-zero exit status 2.",
          "traceback": [
            "\u001b[0;31m---------------------------------------------------------------------------\u001b[0m",
            "\u001b[0;31mCalledProcessError\u001b[0m                        Traceback (most recent call last)",
            "\u001b[0;32m<ipython-input-64-ad54fc2f1625>\u001b[0m in \u001b[0;36m<cell line: 1>\u001b[0;34m()\u001b[0m\n\u001b[0;32m----> 1\u001b[0;31m \u001b[0mget_ipython\u001b[0m\u001b[0;34m(\u001b[0m\u001b[0;34m)\u001b[0m\u001b[0;34m.\u001b[0m\u001b[0mrun_cell_magic\u001b[0m\u001b[0;34m(\u001b[0m\u001b[0;34m'bash'\u001b[0m\u001b[0;34m,\u001b[0m \u001b[0;34m''\u001b[0m\u001b[0;34m,\u001b[0m \u001b[0;34m'./seqMeasurer\\n'\u001b[0m\u001b[0;34m)\u001b[0m\u001b[0;34m\u001b[0m\u001b[0;34m\u001b[0m\u001b[0m\n\u001b[0m",
            "\u001b[0;32m/usr/local/lib/python3.10/dist-packages/google/colab/_shell.py\u001b[0m in \u001b[0;36mrun_cell_magic\u001b[0;34m(self, magic_name, line, cell)\u001b[0m\n\u001b[1;32m    332\u001b[0m     \u001b[0;32mif\u001b[0m \u001b[0mline\u001b[0m \u001b[0;32mand\u001b[0m \u001b[0;32mnot\u001b[0m \u001b[0mcell\u001b[0m\u001b[0;34m:\u001b[0m\u001b[0;34m\u001b[0m\u001b[0;34m\u001b[0m\u001b[0m\n\u001b[1;32m    333\u001b[0m       \u001b[0mcell\u001b[0m \u001b[0;34m=\u001b[0m \u001b[0;34m' '\u001b[0m\u001b[0;34m\u001b[0m\u001b[0;34m\u001b[0m\u001b[0m\n\u001b[0;32m--> 334\u001b[0;31m     \u001b[0;32mreturn\u001b[0m \u001b[0msuper\u001b[0m\u001b[0;34m(\u001b[0m\u001b[0;34m)\u001b[0m\u001b[0;34m.\u001b[0m\u001b[0mrun_cell_magic\u001b[0m\u001b[0;34m(\u001b[0m\u001b[0mmagic_name\u001b[0m\u001b[0;34m,\u001b[0m \u001b[0mline\u001b[0m\u001b[0;34m,\u001b[0m \u001b[0mcell\u001b[0m\u001b[0;34m)\u001b[0m\u001b[0;34m\u001b[0m\u001b[0;34m\u001b[0m\u001b[0m\n\u001b[0m\u001b[1;32m    335\u001b[0m \u001b[0;34m\u001b[0m\u001b[0m\n\u001b[1;32m    336\u001b[0m \u001b[0;34m\u001b[0m\u001b[0m\n",
            "\u001b[0;32m/usr/local/lib/python3.10/dist-packages/IPython/core/interactiveshell.py\u001b[0m in \u001b[0;36mrun_cell_magic\u001b[0;34m(self, magic_name, line, cell)\u001b[0m\n\u001b[1;32m   2471\u001b[0m             \u001b[0;32mwith\u001b[0m \u001b[0mself\u001b[0m\u001b[0;34m.\u001b[0m\u001b[0mbuiltin_trap\u001b[0m\u001b[0;34m:\u001b[0m\u001b[0;34m\u001b[0m\u001b[0;34m\u001b[0m\u001b[0m\n\u001b[1;32m   2472\u001b[0m                 \u001b[0margs\u001b[0m \u001b[0;34m=\u001b[0m \u001b[0;34m(\u001b[0m\u001b[0mmagic_arg_s\u001b[0m\u001b[0;34m,\u001b[0m \u001b[0mcell\u001b[0m\u001b[0;34m)\u001b[0m\u001b[0;34m\u001b[0m\u001b[0;34m\u001b[0m\u001b[0m\n\u001b[0;32m-> 2473\u001b[0;31m                 \u001b[0mresult\u001b[0m \u001b[0;34m=\u001b[0m \u001b[0mfn\u001b[0m\u001b[0;34m(\u001b[0m\u001b[0;34m*\u001b[0m\u001b[0margs\u001b[0m\u001b[0;34m,\u001b[0m \u001b[0;34m**\u001b[0m\u001b[0mkwargs\u001b[0m\u001b[0;34m)\u001b[0m\u001b[0;34m\u001b[0m\u001b[0;34m\u001b[0m\u001b[0m\n\u001b[0m\u001b[1;32m   2474\u001b[0m             \u001b[0;32mreturn\u001b[0m \u001b[0mresult\u001b[0m\u001b[0;34m\u001b[0m\u001b[0;34m\u001b[0m\u001b[0m\n\u001b[1;32m   2475\u001b[0m \u001b[0;34m\u001b[0m\u001b[0m\n",
            "\u001b[0;32m/usr/local/lib/python3.10/dist-packages/IPython/core/magics/script.py\u001b[0m in \u001b[0;36mnamed_script_magic\u001b[0;34m(line, cell)\u001b[0m\n\u001b[1;32m    140\u001b[0m             \u001b[0;32melse\u001b[0m\u001b[0;34m:\u001b[0m\u001b[0;34m\u001b[0m\u001b[0;34m\u001b[0m\u001b[0m\n\u001b[1;32m    141\u001b[0m                 \u001b[0mline\u001b[0m \u001b[0;34m=\u001b[0m \u001b[0mscript\u001b[0m\u001b[0;34m\u001b[0m\u001b[0;34m\u001b[0m\u001b[0m\n\u001b[0;32m--> 142\u001b[0;31m             \u001b[0;32mreturn\u001b[0m \u001b[0mself\u001b[0m\u001b[0;34m.\u001b[0m\u001b[0mshebang\u001b[0m\u001b[0;34m(\u001b[0m\u001b[0mline\u001b[0m\u001b[0;34m,\u001b[0m \u001b[0mcell\u001b[0m\u001b[0;34m)\u001b[0m\u001b[0;34m\u001b[0m\u001b[0;34m\u001b[0m\u001b[0m\n\u001b[0m\u001b[1;32m    143\u001b[0m \u001b[0;34m\u001b[0m\u001b[0m\n\u001b[1;32m    144\u001b[0m         \u001b[0;31m# write a basic docstring:\u001b[0m\u001b[0;34m\u001b[0m\u001b[0;34m\u001b[0m\u001b[0m\n",
            "\u001b[0;32m<decorator-gen-103>\u001b[0m in \u001b[0;36mshebang\u001b[0;34m(self, line, cell)\u001b[0m\n",
            "\u001b[0;32m/usr/local/lib/python3.10/dist-packages/IPython/core/magic.py\u001b[0m in \u001b[0;36m<lambda>\u001b[0;34m(f, *a, **k)\u001b[0m\n\u001b[1;32m    185\u001b[0m     \u001b[0;31m# but it's overkill for just that one bit of state.\u001b[0m\u001b[0;34m\u001b[0m\u001b[0;34m\u001b[0m\u001b[0m\n\u001b[1;32m    186\u001b[0m     \u001b[0;32mdef\u001b[0m \u001b[0mmagic_deco\u001b[0m\u001b[0;34m(\u001b[0m\u001b[0marg\u001b[0m\u001b[0;34m)\u001b[0m\u001b[0;34m:\u001b[0m\u001b[0;34m\u001b[0m\u001b[0;34m\u001b[0m\u001b[0m\n\u001b[0;32m--> 187\u001b[0;31m         \u001b[0mcall\u001b[0m \u001b[0;34m=\u001b[0m \u001b[0;32mlambda\u001b[0m \u001b[0mf\u001b[0m\u001b[0;34m,\u001b[0m \u001b[0;34m*\u001b[0m\u001b[0ma\u001b[0m\u001b[0;34m,\u001b[0m \u001b[0;34m**\u001b[0m\u001b[0mk\u001b[0m\u001b[0;34m:\u001b[0m \u001b[0mf\u001b[0m\u001b[0;34m(\u001b[0m\u001b[0;34m*\u001b[0m\u001b[0ma\u001b[0m\u001b[0;34m,\u001b[0m \u001b[0;34m**\u001b[0m\u001b[0mk\u001b[0m\u001b[0;34m)\u001b[0m\u001b[0;34m\u001b[0m\u001b[0;34m\u001b[0m\u001b[0m\n\u001b[0m\u001b[1;32m    188\u001b[0m \u001b[0;34m\u001b[0m\u001b[0m\n\u001b[1;32m    189\u001b[0m         \u001b[0;32mif\u001b[0m \u001b[0mcallable\u001b[0m\u001b[0;34m(\u001b[0m\u001b[0marg\u001b[0m\u001b[0;34m)\u001b[0m\u001b[0;34m:\u001b[0m\u001b[0;34m\u001b[0m\u001b[0;34m\u001b[0m\u001b[0m\n",
            "\u001b[0;32m/usr/local/lib/python3.10/dist-packages/IPython/core/magics/script.py\u001b[0m in \u001b[0;36mshebang\u001b[0;34m(self, line, cell)\u001b[0m\n\u001b[1;32m    243\u001b[0m             \u001b[0msys\u001b[0m\u001b[0;34m.\u001b[0m\u001b[0mstderr\u001b[0m\u001b[0;34m.\u001b[0m\u001b[0mflush\u001b[0m\u001b[0;34m(\u001b[0m\u001b[0;34m)\u001b[0m\u001b[0;34m\u001b[0m\u001b[0;34m\u001b[0m\u001b[0m\n\u001b[1;32m    244\u001b[0m         \u001b[0;32mif\u001b[0m \u001b[0margs\u001b[0m\u001b[0;34m.\u001b[0m\u001b[0mraise_error\u001b[0m \u001b[0;32mand\u001b[0m \u001b[0mp\u001b[0m\u001b[0;34m.\u001b[0m\u001b[0mreturncode\u001b[0m\u001b[0;34m!=\u001b[0m\u001b[0;36m0\u001b[0m\u001b[0;34m:\u001b[0m\u001b[0;34m\u001b[0m\u001b[0;34m\u001b[0m\u001b[0m\n\u001b[0;32m--> 245\u001b[0;31m             \u001b[0;32mraise\u001b[0m \u001b[0mCalledProcessError\u001b[0m\u001b[0;34m(\u001b[0m\u001b[0mp\u001b[0m\u001b[0;34m.\u001b[0m\u001b[0mreturncode\u001b[0m\u001b[0;34m,\u001b[0m \u001b[0mcell\u001b[0m\u001b[0;34m,\u001b[0m \u001b[0moutput\u001b[0m\u001b[0;34m=\u001b[0m\u001b[0mout\u001b[0m\u001b[0;34m,\u001b[0m \u001b[0mstderr\u001b[0m\u001b[0;34m=\u001b[0m\u001b[0merr\u001b[0m\u001b[0;34m)\u001b[0m\u001b[0;34m\u001b[0m\u001b[0;34m\u001b[0m\u001b[0m\n\u001b[0m\u001b[1;32m    246\u001b[0m \u001b[0;34m\u001b[0m\u001b[0m\n\u001b[1;32m    247\u001b[0m     \u001b[0;32mdef\u001b[0m \u001b[0m_run_script\u001b[0m\u001b[0;34m(\u001b[0m\u001b[0mself\u001b[0m\u001b[0;34m,\u001b[0m \u001b[0mp\u001b[0m\u001b[0;34m,\u001b[0m \u001b[0mcell\u001b[0m\u001b[0;34m,\u001b[0m \u001b[0mto_close\u001b[0m\u001b[0;34m)\u001b[0m\u001b[0;34m:\u001b[0m\u001b[0;34m\u001b[0m\u001b[0;34m\u001b[0m\u001b[0m\n",
            "\u001b[0;31mCalledProcessError\u001b[0m: Command 'b'./seqMeasurer\\n'' returned non-zero exit status 2."
          ]
        }
      ]
    },
    {
      "cell_type": "code",
      "source": [
        "%%bash\n",
        "rm lenghts.txt headerExtractor headers.txt seqMeasurer"
      ],
      "metadata": {
        "id": "8L3D5f2Fam1H"
      },
      "execution_count": 65,
      "outputs": []
    },
    {
      "cell_type": "code",
      "source": [
        "%%bash\n",
        "cat > headerExtractor.sh << 'EOF'\n",
        "for file in *.fa; do\n",
        "    grep '^>' $file >> headers.txt\n",
        "done\n",
        "EOF\n",
        "\n",
        "chmod u+x headerExtractor.sh\n",
        "\n",
        "./headerExtractor.sh\n",
        "\n",
        "cat headers.txt\n"
      ],
      "metadata": {
        "colab": {
          "base_uri": "https://localhost:8080/"
        },
        "id": "m_kF566oavv2",
        "outputId": "ec014dfb-4d4f-41ca-dd49-cc5a532ecd81"
      },
      "execution_count": 68,
      "outputs": [
        {
          "output_type": "stream",
          "name": "stdout",
          "text": [
            ">J00256|IGHJ1*01|Homo sapiens|F|J-REGION|723..774|52 nt|1| | | | |52+0=52| | |\n",
            ">J00256|IGHJ1P*01|Homo sapiens|P|J-REGION|504..557|54 nt|1| | | | |54+0=54| | |\n",
            ">IMGT000035|IGHJ1P*02|Homo sapiens|P|J-REGION|1014168..1014221|54 nt|1| | | | |54+0=54| | |\n",
            ">J00256|IGHJ2*01|Homo sapiens|F|J-REGION|932..984|53 nt|2| | | | |53+0=53| | |\n",
            ">J00256|IGHJ2P*01|Homo sapiens|P|J-REGION|1320..1380|61 nt|1| | | | |61+0=61| | |\n",
            ">IMGT000035|IGHJ2P*02|Homo sapiens|P|J-REGION|1014993..1015054|62 nt|3| | | | |62+0=62| | |\n",
            ">J00256|IGHJ3*01|Homo sapiens|F|J-REGION|1537..1586|50 nt|2| | | | |50+0=50| | |\n",
            ">X86355|IGHJ3*02|Homo sapiens|F|J-REGION|1107..1156|50 nt|2| | | | |50+0=50| | |\n",
            ">J00256|IGHJ3P*01|Homo sapiens|P|J-REGION|2746..2797|52 nt|1| | | | |52+0=52| | |\n",
            ">X86355|IGHJ3P*02|Homo sapiens|P|J-REGION|2277..2326|50 nt|1| | | | |50+0=50| | |\n",
            ">J00256|IGHJ4*01|Homo sapiens|F|J-REGION|1912..1959|48 nt|3| | | | |48+0=48| | |\n",
            ">X86355|IGHJ4*02|Homo sapiens|F|J-REGION|1480..1527|48 nt|3| | | | |48+0=48| | |\n",
            ">M25625|IGHJ4*03|Homo sapiens|F|J-REGION|446..493|48 nt|3| | | | |48+0=48| | |\n",
            ">J00256|IGHJ5*01|Homo sapiens|F|J-REGION|2354..2404|51 nt|3| | | | |51+0=51| | |\n",
            ">X86355|IGHJ5*02|Homo sapiens|F|J-REGION|1878..1928|51 nt|3| | | | |51+0=51| | |\n",
            ">J00256|IGHJ6*01|Homo sapiens|F|J-REGION|2947..3009|63 nt|3| | | | |63+0=63| | |\n",
            ">X86355|IGHJ6*02|Homo sapiens|F|J-REGION|2482..2543|62 nt|3| | | | |62+0=62|partial in 3'| |\n",
            ">X86356|IGHJ6*03|Homo sapiens|F|J-REGION|2482..2543|62 nt|3| | | | |62+0=62|partial in 3'| |\n",
            ">AJ879487|IGHJ6*04|Homo sapiens|F|J-REGION|39..101|63 nt|3| | | | |63+0=63| | |\n",
            ">V00762|IGHJ1*01|Mus musculus_BALB/c|F|J-REGION|444..496|53 nt|2| | | | |53+0=53| | |\n",
            ">V00770|IGHJ1*02|Mus musculus|F|J-REGION|65..117|53 nt|2| | | | |53+0=53| | |\n",
            ">X63164|IGHJ1*03|Mus musculus_A/J|F|J-REGION|12..64|53 nt|2| | | | |53+0=53| | |\n",
            ">V00770|IGHJ2*01|Mus musculus|F|J-REGION|383..430|48 nt|3| | | | |48+0=48| | |\n",
            ">S73821|IGHJ2*02|Mus musculus|F|J-REGION|267..314|48 nt|3| | | | |48+0=48| | |\n",
            ">S77041|IGHJ2*03|Mus musculus|F|J-REGION|1..46|46 nt|1| | | | |46+0=46| | |\n",
            ">V00770|IGHJ3*01|Mus musculus|F|J-REGION|766..813|48 nt|3| | | | |48+0=48| | |\n",
            ">S73821|IGHJ3*02|Mus musculus|P|J-REGION|650..697|48 nt|3| | | | |48+0=48| | |\n",
            ">V00770|IGHJ4*01|Mus musculus|F|J-REGION|1333..1386|54 nt|3| | | | |54+0=54| | |\n",
            ">BX649502|IGHJ1-1*01|Danio rerio_Tuebingen|F|J-REGION|237816..237860|45 nt|3| | | | |45+0=45| | |\n",
            ">BX649502|IGHJ1-2*01|Danio rerio_Tuebingen|F|J-REGION|238370..238415|46 nt|1| | | | |46+0=46| | |\n",
            ">BX510335|IGHJ2-1*01|Danio rerio_Tuebingen|F|J-REGION|22095..22145|51 nt|3| | | | |51+0=51| | |\n",
            ">BX510335|IGHJ2-2*01|Danio rerio_Tuebingen|F|J-REGION|22394..22444|51 nt|3| | | | |51+0=51| | |\n",
            ">BX510335|IGHJ2-3*01|Danio rerio_Tuebingen|F|J-REGION|22658..22711|54 nt|3| | | | |54+0=54| | |\n",
            ">BX510335|IGHJ2-4*01|Danio rerio_Tuebingen|F|J-REGION|22961..23011|51 nt|3| | | | |51+0=51| | |\n",
            ">BX510335|IGHJ2-5*01|Danio rerio_Tuebingen|F|J-REGION|23202..23254|53 nt|2| | | | |53+0=53| | |\n"
          ]
        }
      ]
    },
    {
      "cell_type": "code",
      "source": [
        "# @title Текст заголовка по умолчанию\n",
        "%%bash\n",
        "cat > seqMeasurer.sh << 'EOF'\n",
        "\n",
        "\n",
        "EOF\n",
        "\n",
        "%%bash\n",
        "chmod u+x seqMeasurer.sh\n",
        "\n",
        "./seqMeasurer.sh\n",
        "\n",
        "cat lengths.txt\n",
        "\n"
      ],
      "metadata": {
        "colab": {
          "base_uri": "https://localhost:8080/"
        },
        "id": "ZaGSTSzxcyQc",
        "outputId": "896acfc3-e319-47ec-80bf-1763a9868f35"
      },
      "execution_count": 70,
      "outputs": [
        {
          "output_type": "stream",
          "name": "stdout",
          "text": [
            "1059\n",
            "\n",
            "460\n",
            "\n",
            "358\n",
            "\n"
          ]
        },
        {
          "output_type": "stream",
          "name": "stderr",
          "text": [
            "bash: line 6: fg: no job control\n"
          ]
        }
      ]
    },
    {
      "cell_type": "code",
      "source": [
        "%%bash\n",
        "rm seqMeasurer.sh headerExtractorheaders.txt lengths.txt"
      ],
      "metadata": {
        "id": "kC1V6O3xdVjR"
      },
      "execution_count": 71,
      "outputs": []
    },
    {
      "cell_type": "code",
      "source": [
        "%%bash\n",
        "cat > seqMeasurer.sh << 'EOF'\n",
        "wc seqMeasurer.sh > lengths.txt\n",
        "\n",
        "EOF\n",
        "\n",
        "chmod u+x seqMeasurer.sh\n",
        "\n",
        "./seqMeasurer.sh\n",
        "\n",
        "cat lengths.txt"
      ],
      "metadata": {
        "colab": {
          "base_uri": "https://localhost:8080/"
        },
        "id": "WNoh_2L1dkKL",
        "outputId": "b38a62b3-a958-44e0-df97-7965a61c67f7"
      },
      "execution_count": 74,
      "outputs": [
        {
          "output_type": "stream",
          "name": "stdout",
          "text": [
            " 2  4 33 seqMeasurer.sh\n"
          ]
        }
      ]
    },
    {
      "cell_type": "code",
      "source": [
        "%%bash\n",
        "cat seqMeasurer.sh"
      ],
      "metadata": {
        "colab": {
          "base_uri": "https://localhost:8080/"
        },
        "id": "L_zNcnx1eMpw",
        "outputId": "6bf0ed58-3d1a-4b14-9a4d-13ed0fc504e8"
      },
      "execution_count": 75,
      "outputs": [
        {
          "output_type": "stream",
          "name": "stdout",
          "text": [
            "wc seqMeasurer.sh > lengths.txt\n",
            "\n"
          ]
        }
      ]
    },
    {
      "cell_type": "code",
      "source": [
        "%%bash\n",
        "rm seqMeasurer.sh lenghts.txt lengths.txt"
      ],
      "metadata": {
        "id": "YKBlT23keUjh"
      },
      "execution_count": 76,
      "outputs": []
    },
    {
      "cell_type": "code",
      "source": [
        "%%bash\n",
        "cat IGHJ_Human.fa IGHJ_Mouse.fa IGHJ_Zebrafish.fa > seqMeasurer"
      ],
      "metadata": {
        "id": "mrwa_5FXenQs"
      },
      "execution_count": 77,
      "outputs": []
    },
    {
      "cell_type": "code",
      "source": [
        "%%bash\n",
        "wc seqMeasurer > lengths.txt"
      ],
      "metadata": {
        "id": "u8Fg_5A8exE8"
      },
      "execution_count": 78,
      "outputs": []
    },
    {
      "cell_type": "code",
      "source": [
        "%%bash\n",
        "cat lengths.txt"
      ],
      "metadata": {
        "colab": {
          "base_uri": "https://localhost:8080/"
        },
        "id": "xR3Xr9Xce-yQ",
        "outputId": "3dd8fb1d-49ce-4f06-97cc-9220b63a6dc3"
      },
      "execution_count": 79,
      "outputs": [
        {
          "output_type": "stream",
          "name": "stdout",
          "text": [
            "  76  358 4851 seqMeasurer\n"
          ]
        }
      ]
    },
    {
      "cell_type": "code",
      "source": [
        "%%bash\n",
        "wc seqMeasurer"
      ],
      "metadata": {
        "colab": {
          "base_uri": "https://localhost:8080/"
        },
        "id": "Di4GulJdfKwd",
        "outputId": "cbe3a8cb-b2a2-445f-c519-9b70fc0fe4f3"
      },
      "execution_count": 80,
      "outputs": [
        {
          "output_type": "stream",
          "name": "stdout",
          "text": [
            "  76  358 4851 seqMeasurer\n"
          ]
        }
      ]
    },
    {
      "cell_type": "code",
      "source": [
        "%%bash\n",
        "cat IGHJ_Human.fa IGHJ_Mouse.fa IGHJ_Zebrafish.fa > seqMeasurer\n"
      ],
      "metadata": {
        "id": "lrPdpmM6fTpz"
      },
      "execution_count": 81,
      "outputs": []
    },
    {
      "cell_type": "code",
      "source": [
        "%%bash\n",
        "wc seqMeasurer"
      ],
      "metadata": {
        "colab": {
          "base_uri": "https://localhost:8080/"
        },
        "id": "4L1MCx1JfVHe",
        "outputId": "aab0007e-64c5-434f-e966-6c6026383095"
      },
      "execution_count": 82,
      "outputs": [
        {
          "output_type": "stream",
          "name": "stdout",
          "text": [
            "  76  358 4851 seqMeasurer\n"
          ]
        }
      ]
    },
    {
      "cell_type": "code",
      "source": [
        "%%bash\n",
        "cat seqMeasurer"
      ],
      "metadata": {
        "colab": {
          "base_uri": "https://localhost:8080/"
        },
        "id": "fNsUVCXOfZrp",
        "outputId": "8410ef76-ced2-469d-9ec3-7d8bf2769178"
      },
      "execution_count": 83,
      "outputs": [
        {
          "output_type": "stream",
          "name": "stdout",
          "text": [
            ">J00256|IGHJ1*01|Homo sapiens|F|J-REGION|723..774|52 nt|1| | | | |52+0=52| | |\n",
            "gctgaatacttccagcactggggccagggcaccctggtcaccgtctcctcag\n",
            ">J00256|IGHJ1P*01|Homo sapiens|P|J-REGION|504..557|54 nt|1| | | | |54+0=54| | |\n",
            "aaaggtgctgggggtcccctgaacccgacccgccctgagaccgcagccacatca\n",
            ">IMGT000035|IGHJ1P*02|Homo sapiens|P|J-REGION|1014168..1014221|54 nt|1| | | | |54+0=54| | |\n",
            "aaaggtgctgggggcccctggacccgacccgccctggagaccgcagccacatca\n",
            ">J00256|IGHJ2*01|Homo sapiens|F|J-REGION|932..984|53 nt|2| | | | |53+0=53| | |\n",
            "ctactggtacttcgatctctggggccgtggcaccctggtcactgtctcctcag\n",
            ">J00256|IGHJ2P*01|Homo sapiens|P|J-REGION|1320..1380|61 nt|1| | | | |61+0=61| | |\n",
            "gctacaagtgcttggagcactggggcagggcagcccggacaccgtctccctgggaacgtc\n",
            "a\n",
            ">IMGT000035|IGHJ2P*02|Homo sapiens|P|J-REGION|1014993..1015054|62 nt|3| | | | |62+0=62| | |\n",
            "gctacaagtgcttggagcactggggccagggcagcccggccaccgtctccctgggaacgt\n",
            "ca\n",
            ">J00256|IGHJ3*01|Homo sapiens|F|J-REGION|1537..1586|50 nt|2| | | | |50+0=50| | |\n",
            "tgatgcttttgatgtctggggccaagggacaatggtcaccgtctcttcag\n",
            ">X86355|IGHJ3*02|Homo sapiens|F|J-REGION|1107..1156|50 nt|2| | | | |50+0=50| | |\n",
            "tgatgcttttgatatctggggccaagggacaatggtcaccgtctcttcag\n",
            ">J00256|IGHJ3P*01|Homo sapiens|P|J-REGION|2746..2797|52 nt|1| | | | |52+0=52| | |\n",
            "cttgcggttggacttcccagccgacagtggtggtctggcttctgaggggtca\n",
            ">X86355|IGHJ3P*02|Homo sapiens|P|J-REGION|2277..2326|50 nt|1| | | | |50+0=50| | |\n",
            "cttgcagttggacttcccaggccgacagtggtctggcttctgaggggtca\n",
            ">J00256|IGHJ4*01|Homo sapiens|F|J-REGION|1912..1959|48 nt|3| | | | |48+0=48| | |\n",
            "actactttgactactggggccaaggaaccctggtcaccgtctcctcag\n",
            ">X86355|IGHJ4*02|Homo sapiens|F|J-REGION|1480..1527|48 nt|3| | | | |48+0=48| | |\n",
            "actactttgactactggggccagggaaccctggtcaccgtctcctcag\n",
            ">M25625|IGHJ4*03|Homo sapiens|F|J-REGION|446..493|48 nt|3| | | | |48+0=48| | |\n",
            "gctactttgactactggggccaagggaccctggtcaccgtctcctcag\n",
            ">J00256|IGHJ5*01|Homo sapiens|F|J-REGION|2354..2404|51 nt|3| | | | |51+0=51| | |\n",
            "acaactggttcgactcctggggccaaggaaccctggtcaccgtctcctcag\n",
            ">X86355|IGHJ5*02|Homo sapiens|F|J-REGION|1878..1928|51 nt|3| | | | |51+0=51| | |\n",
            "acaactggttcgacccctggggccagggaaccctggtcaccgtctcctcag\n",
            ">J00256|IGHJ6*01|Homo sapiens|F|J-REGION|2947..3009|63 nt|3| | | | |63+0=63| | |\n",
            "attactactactactacggtatggacgtctgggggcaagggaccacggtcaccgtctcct\n",
            "cag\n",
            ">X86355|IGHJ6*02|Homo sapiens|F|J-REGION|2482..2543|62 nt|3| | | | |62+0=62|partial in 3'| |\n",
            "attactactactactacggtatggacgtctggggccaagggaccacggtcaccgtctcct\n",
            "ca\n",
            ">X86356|IGHJ6*03|Homo sapiens|F|J-REGION|2482..2543|62 nt|3| | | | |62+0=62|partial in 3'| |\n",
            "attactactactactactacatggacgtctggggcaaagggaccacggtcaccgtctcct\n",
            "ca\n",
            ">AJ879487|IGHJ6*04|Homo sapiens|F|J-REGION|39..101|63 nt|3| | | | |63+0=63| | |\n",
            "attactactactactacggtatggacgtctggggcaaagggaccacggtcaccgtctcct\n",
            "cag\n",
            ">V00762|IGHJ1*01|Mus musculus_BALB/c|F|J-REGION|444..496|53 nt|2| | | | |53+0=53| | |\n",
            "ctactggtacttcgatgtctggggcgcagggaccacggtcaccgtctcctcag\n",
            ">V00770|IGHJ1*02|Mus musculus|F|J-REGION|65..117|53 nt|2| | | | |53+0=53| | |\n",
            "ctactggtacttcgatgtctggggcgcagggaccacggtcaccgtttcctcag\n",
            ">X63164|IGHJ1*03|Mus musculus_A/J|F|J-REGION|12..64|53 nt|2| | | | |53+0=53| | |\n",
            "ctactggtacttcgatgtctggggcacagggaccacggtcaccgtctcctcag\n",
            ">V00770|IGHJ2*01|Mus musculus|F|J-REGION|383..430|48 nt|3| | | | |48+0=48| | |\n",
            "actactttgactactggggccaaggcaccactctcacagtctcctcag\n",
            ">S73821|IGHJ2*02|Mus musculus|F|J-REGION|267..314|48 nt|3| | | | |48+0=48| | |\n",
            "actactttgactactggggccaaggcacctctctcacagtctcctcag\n",
            ">S77041|IGHJ2*03|Mus musculus|F|J-REGION|1..46|46 nt|1| | | | |46+0=46| | |\n",
            "tactttgactactggggccaaggcaccagtctcacagtctcctcag\n",
            ">V00770|IGHJ3*01|Mus musculus|F|J-REGION|766..813|48 nt|3| | | | |48+0=48| | |\n",
            "cctggtttgcttactggggccaagggactctggtcactgtctctgcag\n",
            ">S73821|IGHJ3*02|Mus musculus|P|J-REGION|650..697|48 nt|3| | | | |48+0=48| | |\n",
            "cctggtttggttagtggggccaagggactctggtcactgtctctgcag\n",
            ">V00770|IGHJ4*01|Mus musculus|F|J-REGION|1333..1386|54 nt|3| | | | |54+0=54| | |\n",
            "attactatgctatggactactggggtcaaggaacctcagtcaccgtctcctcag\n",
            ">BX649502|IGHJ1-1*01|Danio rerio_Tuebingen|F|J-REGION|237816..237860|45 nt|3| | | | |45+0=45| | |\n",
            "ctgcttttgactactggggtaaaggcacacaagtgaccgttgcag\n",
            ">BX649502|IGHJ1-2*01|Danio rerio_Tuebingen|F|J-REGION|238370..238415|46 nt|1| | | | |46+0=46| | |\n",
            "agctacttcgactactggggtagagggacgcaggtgaccgtgacaa\n",
            ">BX510335|IGHJ2-1*01|Danio rerio_Tuebingen|F|J-REGION|22095..22145|51 nt|3| | | | |51+0=51| | |\n",
            "actactactttgactactgggggaaaggaaccaaagtgacagtttcctcag\n",
            ">BX510335|IGHJ2-2*01|Danio rerio_Tuebingen|F|J-REGION|22394..22444|51 nt|3| | | | |51+0=51| | |\n",
            "acggtgcctttgactactggggaaagggaacaatggtcactgtcacatcag\n",
            ">BX510335|IGHJ2-3*01|Danio rerio_Tuebingen|F|J-REGION|22658..22711|54 nt|3| | | | |54+0=54| | |\n",
            "acaatgctgcctttgactactggggaaaaggcacgatggtcacagtgacatcag\n",
            ">BX510335|IGHJ2-4*01|Danio rerio_Tuebingen|F|J-REGION|22961..23011|51 nt|3| | | | |51+0=51| | |\n",
            "acaatgcttttgactactgggggaaaggaactatggtcaccgtctcgtcag\n",
            ">BX510335|IGHJ2-5*01|Danio rerio_Tuebingen|F|J-REGION|23202..23254|53 nt|2| | | | |53+0=53| | |\n",
            "taactgggcgttcgactactggggaagcggcaccaaagtctccgtaacaaaca\n"
          ]
        }
      ]
    },
    {
      "cell_type": "code",
      "source": [
        "%%bash\n",
        "chmod u+x seqMeasurer\n",
        "\n",
        "./seqMeasurer\n",
        "\n",
        "cat lengths.txt\n"
      ],
      "metadata": {
        "colab": {
          "base_uri": "https://localhost:8080/"
        },
        "id": "4D0fOulDfjZp",
        "outputId": "d287a4e1-ea27-4b55-a77e-13e95f5d2ef1"
      },
      "execution_count": 84,
      "outputs": [
        {
          "output_type": "stream",
          "name": "stdout",
          "text": [
            "  76  358 4851 seqMeasurer\n"
          ]
        },
        {
          "output_type": "stream",
          "name": "stderr",
          "text": [
            "./seqMeasurer: line 1: syntax error near unexpected token `|'\n",
            "./seqMeasurer: line 1: `>J00256|IGHJ1*01|Homo sapiens|F|J-REGION|723..774|52 nt|1| | | | |52+0=52| | |'\n"
          ]
        }
      ]
    },
    {
      "cell_type": "code",
      "source": [
        "%%bash\n",
        "cat > seqMeasurer.sh << 'EOF'\n",
        "for file in *.fa; do\n",
        "    grep '^>' $file >> lengths.txt\n",
        "    grep -v '^>' $file | tr -d '\\n' | wc -c >> lengths.txt\n",
        "done\n",
        "EOF\n"
      ],
      "metadata": {
        "id": "dhpxS10XgVF-"
      },
      "execution_count": 85,
      "outputs": []
    },
    {
      "cell_type": "code",
      "source": [
        "%%bash\n",
        "chmod u+x seqMeasurer.sh\n",
        "./seqMeasurer.sh\n",
        "cat lengths.txt\n"
      ],
      "metadata": {
        "colab": {
          "base_uri": "https://localhost:8080/"
        },
        "id": "FAAb_svogkAf",
        "outputId": "c7ec8048-92b8-4fb0-b63b-c6586bbfa354"
      },
      "execution_count": 86,
      "outputs": [
        {
          "output_type": "stream",
          "name": "stdout",
          "text": [
            ">J00256|IGHJ1*01|Homo sapiens|F|J-REGION|723..774|52 nt|1| | | | |52+0=52| | |\n",
            ">J00256|IGHJ1P*01|Homo sapiens|P|J-REGION|504..557|54 nt|1| | | | |54+0=54| | |\n",
            ">IMGT000035|IGHJ1P*02|Homo sapiens|P|J-REGION|1014168..1014221|54 nt|1| | | | |54+0=54| | |\n",
            ">J00256|IGHJ2*01|Homo sapiens|F|J-REGION|932..984|53 nt|2| | | | |53+0=53| | |\n",
            ">J00256|IGHJ2P*01|Homo sapiens|P|J-REGION|1320..1380|61 nt|1| | | | |61+0=61| | |\n",
            ">IMGT000035|IGHJ2P*02|Homo sapiens|P|J-REGION|1014993..1015054|62 nt|3| | | | |62+0=62| | |\n",
            ">J00256|IGHJ3*01|Homo sapiens|F|J-REGION|1537..1586|50 nt|2| | | | |50+0=50| | |\n",
            ">X86355|IGHJ3*02|Homo sapiens|F|J-REGION|1107..1156|50 nt|2| | | | |50+0=50| | |\n",
            ">J00256|IGHJ3P*01|Homo sapiens|P|J-REGION|2746..2797|52 nt|1| | | | |52+0=52| | |\n",
            ">X86355|IGHJ3P*02|Homo sapiens|P|J-REGION|2277..2326|50 nt|1| | | | |50+0=50| | |\n",
            ">J00256|IGHJ4*01|Homo sapiens|F|J-REGION|1912..1959|48 nt|3| | | | |48+0=48| | |\n",
            ">X86355|IGHJ4*02|Homo sapiens|F|J-REGION|1480..1527|48 nt|3| | | | |48+0=48| | |\n",
            ">M25625|IGHJ4*03|Homo sapiens|F|J-REGION|446..493|48 nt|3| | | | |48+0=48| | |\n",
            ">J00256|IGHJ5*01|Homo sapiens|F|J-REGION|2354..2404|51 nt|3| | | | |51+0=51| | |\n",
            ">X86355|IGHJ5*02|Homo sapiens|F|J-REGION|1878..1928|51 nt|3| | | | |51+0=51| | |\n",
            ">J00256|IGHJ6*01|Homo sapiens|F|J-REGION|2947..3009|63 nt|3| | | | |63+0=63| | |\n",
            ">X86355|IGHJ6*02|Homo sapiens|F|J-REGION|2482..2543|62 nt|3| | | | |62+0=62|partial in 3'| |\n",
            ">X86356|IGHJ6*03|Homo sapiens|F|J-REGION|2482..2543|62 nt|3| | | | |62+0=62|partial in 3'| |\n",
            ">AJ879487|IGHJ6*04|Homo sapiens|F|J-REGION|39..101|63 nt|3| | | | |63+0=63| | |\n",
            "1034\n",
            ">V00762|IGHJ1*01|Mus musculus_BALB/c|F|J-REGION|444..496|53 nt|2| | | | |53+0=53| | |\n",
            ">V00770|IGHJ1*02|Mus musculus|F|J-REGION|65..117|53 nt|2| | | | |53+0=53| | |\n",
            ">X63164|IGHJ1*03|Mus musculus_A/J|F|J-REGION|12..64|53 nt|2| | | | |53+0=53| | |\n",
            ">V00770|IGHJ2*01|Mus musculus|F|J-REGION|383..430|48 nt|3| | | | |48+0=48| | |\n",
            ">S73821|IGHJ2*02|Mus musculus|F|J-REGION|267..314|48 nt|3| | | | |48+0=48| | |\n",
            ">S77041|IGHJ2*03|Mus musculus|F|J-REGION|1..46|46 nt|1| | | | |46+0=46| | |\n",
            ">V00770|IGHJ3*01|Mus musculus|F|J-REGION|766..813|48 nt|3| | | | |48+0=48| | |\n",
            ">S73821|IGHJ3*02|Mus musculus|P|J-REGION|650..697|48 nt|3| | | | |48+0=48| | |\n",
            ">V00770|IGHJ4*01|Mus musculus|F|J-REGION|1333..1386|54 nt|3| | | | |54+0=54| | |\n",
            "451\n",
            ">BX649502|IGHJ1-1*01|Danio rerio_Tuebingen|F|J-REGION|237816..237860|45 nt|3| | | | |45+0=45| | |\n",
            ">BX649502|IGHJ1-2*01|Danio rerio_Tuebingen|F|J-REGION|238370..238415|46 nt|1| | | | |46+0=46| | |\n",
            ">BX510335|IGHJ2-1*01|Danio rerio_Tuebingen|F|J-REGION|22095..22145|51 nt|3| | | | |51+0=51| | |\n",
            ">BX510335|IGHJ2-2*01|Danio rerio_Tuebingen|F|J-REGION|22394..22444|51 nt|3| | | | |51+0=51| | |\n",
            ">BX510335|IGHJ2-3*01|Danio rerio_Tuebingen|F|J-REGION|22658..22711|54 nt|3| | | | |54+0=54| | |\n",
            ">BX510335|IGHJ2-4*01|Danio rerio_Tuebingen|F|J-REGION|22961..23011|51 nt|3| | | | |51+0=51| | |\n",
            ">BX510335|IGHJ2-5*01|Danio rerio_Tuebingen|F|J-REGION|23202..23254|53 nt|2| | | | |53+0=53| | |\n",
            "351\n"
          ]
        }
      ]
    },
    {
      "cell_type": "code",
      "source": [
        "%%bash\n",
        "cat > headerExtractor.sh << 'EOF'\n",
        "for file in *.fa; do\n",
        "    grep '^>' $file >> headers.txt\n",
        "done\n",
        "EOF\n"
      ],
      "metadata": {
        "id": "zfXPtnlzhFSj"
      },
      "execution_count": 87,
      "outputs": []
    },
    {
      "cell_type": "code",
      "source": [
        "%%bash\n",
        "chmod u+x headerExtractor.sh\n",
        "./headerExtractor.sh\n",
        "cat headers.txt\n"
      ],
      "metadata": {
        "colab": {
          "base_uri": "https://localhost:8080/"
        },
        "id": "S3Hxq1l6hLRl",
        "outputId": "f19a0fa1-d3d1-491c-9e4d-f7bda1ee5747"
      },
      "execution_count": 88,
      "outputs": [
        {
          "output_type": "stream",
          "name": "stdout",
          "text": [
            ">J00256|IGHJ1*01|Homo sapiens|F|J-REGION|723..774|52 nt|1| | | | |52+0=52| | |\n",
            ">J00256|IGHJ1P*01|Homo sapiens|P|J-REGION|504..557|54 nt|1| | | | |54+0=54| | |\n",
            ">IMGT000035|IGHJ1P*02|Homo sapiens|P|J-REGION|1014168..1014221|54 nt|1| | | | |54+0=54| | |\n",
            ">J00256|IGHJ2*01|Homo sapiens|F|J-REGION|932..984|53 nt|2| | | | |53+0=53| | |\n",
            ">J00256|IGHJ2P*01|Homo sapiens|P|J-REGION|1320..1380|61 nt|1| | | | |61+0=61| | |\n",
            ">IMGT000035|IGHJ2P*02|Homo sapiens|P|J-REGION|1014993..1015054|62 nt|3| | | | |62+0=62| | |\n",
            ">J00256|IGHJ3*01|Homo sapiens|F|J-REGION|1537..1586|50 nt|2| | | | |50+0=50| | |\n",
            ">X86355|IGHJ3*02|Homo sapiens|F|J-REGION|1107..1156|50 nt|2| | | | |50+0=50| | |\n",
            ">J00256|IGHJ3P*01|Homo sapiens|P|J-REGION|2746..2797|52 nt|1| | | | |52+0=52| | |\n",
            ">X86355|IGHJ3P*02|Homo sapiens|P|J-REGION|2277..2326|50 nt|1| | | | |50+0=50| | |\n",
            ">J00256|IGHJ4*01|Homo sapiens|F|J-REGION|1912..1959|48 nt|3| | | | |48+0=48| | |\n",
            ">X86355|IGHJ4*02|Homo sapiens|F|J-REGION|1480..1527|48 nt|3| | | | |48+0=48| | |\n",
            ">M25625|IGHJ4*03|Homo sapiens|F|J-REGION|446..493|48 nt|3| | | | |48+0=48| | |\n",
            ">J00256|IGHJ5*01|Homo sapiens|F|J-REGION|2354..2404|51 nt|3| | | | |51+0=51| | |\n",
            ">X86355|IGHJ5*02|Homo sapiens|F|J-REGION|1878..1928|51 nt|3| | | | |51+0=51| | |\n",
            ">J00256|IGHJ6*01|Homo sapiens|F|J-REGION|2947..3009|63 nt|3| | | | |63+0=63| | |\n",
            ">X86355|IGHJ6*02|Homo sapiens|F|J-REGION|2482..2543|62 nt|3| | | | |62+0=62|partial in 3'| |\n",
            ">X86356|IGHJ6*03|Homo sapiens|F|J-REGION|2482..2543|62 nt|3| | | | |62+0=62|partial in 3'| |\n",
            ">AJ879487|IGHJ6*04|Homo sapiens|F|J-REGION|39..101|63 nt|3| | | | |63+0=63| | |\n",
            ">V00762|IGHJ1*01|Mus musculus_BALB/c|F|J-REGION|444..496|53 nt|2| | | | |53+0=53| | |\n",
            ">V00770|IGHJ1*02|Mus musculus|F|J-REGION|65..117|53 nt|2| | | | |53+0=53| | |\n",
            ">X63164|IGHJ1*03|Mus musculus_A/J|F|J-REGION|12..64|53 nt|2| | | | |53+0=53| | |\n",
            ">V00770|IGHJ2*01|Mus musculus|F|J-REGION|383..430|48 nt|3| | | | |48+0=48| | |\n",
            ">S73821|IGHJ2*02|Mus musculus|F|J-REGION|267..314|48 nt|3| | | | |48+0=48| | |\n",
            ">S77041|IGHJ2*03|Mus musculus|F|J-REGION|1..46|46 nt|1| | | | |46+0=46| | |\n",
            ">V00770|IGHJ3*01|Mus musculus|F|J-REGION|766..813|48 nt|3| | | | |48+0=48| | |\n",
            ">S73821|IGHJ3*02|Mus musculus|P|J-REGION|650..697|48 nt|3| | | | |48+0=48| | |\n",
            ">V00770|IGHJ4*01|Mus musculus|F|J-REGION|1333..1386|54 nt|3| | | | |54+0=54| | |\n",
            ">BX649502|IGHJ1-1*01|Danio rerio_Tuebingen|F|J-REGION|237816..237860|45 nt|3| | | | |45+0=45| | |\n",
            ">BX649502|IGHJ1-2*01|Danio rerio_Tuebingen|F|J-REGION|238370..238415|46 nt|1| | | | |46+0=46| | |\n",
            ">BX510335|IGHJ2-1*01|Danio rerio_Tuebingen|F|J-REGION|22095..22145|51 nt|3| | | | |51+0=51| | |\n",
            ">BX510335|IGHJ2-2*01|Danio rerio_Tuebingen|F|J-REGION|22394..22444|51 nt|3| | | | |51+0=51| | |\n",
            ">BX510335|IGHJ2-3*01|Danio rerio_Tuebingen|F|J-REGION|22658..22711|54 nt|3| | | | |54+0=54| | |\n",
            ">BX510335|IGHJ2-4*01|Danio rerio_Tuebingen|F|J-REGION|22961..23011|51 nt|3| | | | |51+0=51| | |\n",
            ">BX510335|IGHJ2-5*01|Danio rerio_Tuebingen|F|J-REGION|23202..23254|53 nt|2| | | | |53+0=53| | |\n"
          ]
        }
      ]
    }
  ]
}